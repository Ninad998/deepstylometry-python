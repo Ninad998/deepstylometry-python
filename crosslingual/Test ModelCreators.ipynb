{
 "cells": [
  {
   "cell_type": "code",
   "execution_count": 1,
   "metadata": {
    "collapsed": true
   },
   "outputs": [],
   "source": [
    "import MLModelCreatorWord as md\n",
    "\n",
    "doc_table = \"author_study_six\"\n"
   ]
  },
  {
   "cell_type": "code",
   "execution_count": 2,
   "metadata": {
    "collapsed": false,
    "deletable": true,
    "editable": true
   },
   "outputs": [
    {
     "name": "stdout",
     "output_type": "stream",
     "text": [
      "Execution completed\n",
      "Read completed\n",
      "Number of rows: 10400\n",
      "<type 'list'>\n",
      "doc_id         int64\n",
      "author_id      int64\n",
      "feature1     float64\n",
      "feature2     float64\n",
      "feature3     float64\n",
      "feature4     float64\n",
      "feature5     float64\n",
      "feature6     float64\n",
      "feature7     float64\n",
      "feature8     float64\n",
      "dtype: object\n",
      "Data Frame created: Shape: (10400, 10)\n",
      "Author:   124  Size:  1600\n",
      "Author:   114  Size:  2400\n",
      "Author:  1228  Size:  1600\n",
      "Author:  1472  Size:  3200\n",
      "Author:  1492  Size:  1600\n",
      "Min: 1600\n",
      "Max: 3200\n",
      "Authors [124, 114, 1228, 1472, 1492].\n",
      "Found 10400 texts.\n",
      "Found 10400 features.\n",
      "Found 10400 groups.\n"
     ]
    }
   ],
   "source": [
    "\n",
    "(features, labels, groups, samples) = md.loadData(doc_table)\n"
   ]
  },
  {
   "cell_type": "code",
   "execution_count": 3,
   "metadata": {
    "collapsed": false,
    "deletable": true,
    "editable": true,
    "scrolled": false
   },
   "outputs": [
    {
     "name": "stdout",
     "output_type": "stream",
     "text": [
      "13\n"
     ]
    }
   ],
   "source": [
    "logo = md.preProcessTrainVal(features, labels, groups)"
   ]
  },
  {
   "cell_type": "code",
   "execution_count": 4,
   "metadata": {
    "collapsed": false,
    "deletable": true,
    "editable": true
   },
   "outputs": [],
   "source": [
    "model = md.compileModel()"
   ]
  },
  {
   "cell_type": "code",
   "execution_count": 5,
   "metadata": {
    "collapsed": false,
    "deletable": true,
    "editable": true
   },
   "outputs": [
    {
     "name": "stdout",
     "output_type": "stream",
     "text": [
      "\n",
      "\n",
      "Final Train Accuracy: 100.00\n",
      "\n",
      "Final Validation Accuracy: 0.00\n",
      "('train_acc:', 1.0, 'val_acc:', 0.0)\n",
      "\n",
      "\n",
      "Final Train Accuracy: 100.00\n",
      "\n",
      "Final Validation Accuracy: 0.00\n",
      "('train_acc:', 1.0, 'val_acc:', 0.0)\n",
      "\n",
      "\n",
      "Final Train Accuracy: 100.00\n",
      "\n",
      "Final Validation Accuracy: 0.00\n",
      "('train_acc:', 1.0, 'val_acc:', 0.0)\n",
      "\n",
      "\n",
      "Final Train Accuracy: 100.00\n",
      "\n",
      "Final Validation Accuracy: 0.00\n",
      "('train_acc:', 1.0, 'val_acc:', 0.0)\n",
      "\n",
      "\n",
      "Final Train Accuracy: 100.00\n",
      "\n",
      "Final Validation Accuracy: 0.00\n",
      "('train_acc:', 1.0, 'val_acc:', 0.0)\n",
      "\n",
      "\n",
      "Final Train Accuracy: 100.00\n",
      "\n",
      "Final Validation Accuracy: 0.00\n",
      "('train_acc:', 1.0, 'val_acc:', 0.0)\n",
      "\n",
      "\n",
      "Final Train Accuracy: 100.00\n",
      "\n",
      "Final Validation Accuracy: 73.38\n",
      "('train_acc:', 1.0, 'val_acc:', 0.73375000000000001)\n",
      "\n",
      "\n",
      "Final Train Accuracy: 100.00\n",
      "\n",
      "Final Validation Accuracy: 25.00\n",
      "('train_acc:', 1.0, 'val_acc:', 0.25)\n",
      "\n",
      "\n",
      "Final Train Accuracy: 100.00\n",
      "\n",
      "Final Validation Accuracy: 25.00\n",
      "('train_acc:', 1.0, 'val_acc:', 0.25)\n",
      "\n",
      "\n",
      "Final Train Accuracy: 100.00\n",
      "\n",
      "Final Validation Accuracy: 12.62\n",
      "('train_acc:', 1.0, 'val_acc:', 0.12625)\n",
      "\n",
      "\n",
      "Final Train Accuracy: 100.00\n",
      "\n",
      "Final Validation Accuracy: 25.00\n",
      "('train_acc:', 1.0, 'val_acc:', 0.25)\n",
      "\n",
      "\n",
      "Final Train Accuracy: 100.00\n",
      "\n",
      "Final Validation Accuracy: 5.50\n",
      "('train_acc:', 1.0, 'val_acc:', 0.055)\n",
      "\n",
      "\n",
      "Final Train Accuracy: 100.00\n",
      "\n",
      "Final Validation Accuracy: 25.00\n",
      "('train_acc:', 1.0, 'val_acc:', 0.25)\n"
     ]
    }
   ],
   "source": [
    "for train_index, test_index in logo.split(features, labels, groups):\n",
    "    trainX = features[train_index]\n",
    "    valX = features[test_index]\n",
    "    trainY, valY = labels[train_index], labels[test_index]\n",
    "    (model, train_acc, val_acc) = md.fitModel(model, trainX, trainY, valX, valY)\n",
    "    print(\"train_acc:\", train_acc, \"val_acc:\", val_acc)"
   ]
  },
  {
   "cell_type": "code",
   "execution_count": 6,
   "metadata": {
    "collapsed": false,
    "deletable": true,
    "editable": true
   },
   "outputs": [
    {
     "name": "stderr",
     "output_type": "stream",
     "text": [
      "No traceback available to show.\n"
     ]
    }
   ],
   "source": [
    "%tb"
   ]
  },
  {
   "cell_type": "code",
   "execution_count": null,
   "metadata": {
    "collapsed": true,
    "deletable": true,
    "editable": true
   },
   "outputs": [],
   "source": []
  }
 ],
 "metadata": {
  "anaconda-cloud": {},
  "kernelspec": {
   "display_name": "Python 2",
   "language": "python",
   "name": "python2"
  },
  "language_info": {
   "codemirror_mode": {
    "name": "ipython",
    "version": 2
   },
   "file_extension": ".py",
   "mimetype": "text/x-python",
   "name": "python",
   "nbconvert_exporter": "python",
   "pygments_lexer": "ipython2",
   "version": "2.7.13"
  }
 },
 "nbformat": 4,
 "nbformat_minor": 1
}
