{
 "cells": [
  {
   "cell_type": "code",
   "execution_count": null,
   "metadata": {
    "collapsed": false
   },
   "outputs": [
    {
     "name": "stdout",
     "output_type": "stream",
     "text": [
      "(32, 3)\n",
      "doc_id         int64\n",
      "author_id      int64\n",
      "authorList    object\n",
      "dtype: object\n"
     ]
    }
   ],
   "source": [
    "import pandas as pd\n",
    "df = pd.read_csv('queryset_CNN.csv')\n",
    "print(df.shape)\n",
    "print(df.dtypes)\n",
    "preds = []"
   ]
  },
  {
   "cell_type": "code",
   "execution_count": null,
   "metadata": {
    "collapsed": false
   },
   "outputs": [
    {
     "name": "stdout",
     "output_type": "stream",
     "text": [
      "Current test: doc_id = 85, candidate = 3, samples = 3200, test = tfidf_svc\n",
      "Execution completed\n",
      "Running: doc_id = 85, candidate = 3, samples = 3200, test = tfidf_svc\n",
      "Algo: tfidf_svc\n",
      "Execution completed\n",
      "Read completed\n",
      "Number of rows: 124\n",
      "author_id       int64\n",
      "doc_content    object\n",
      "dtype: object\n",
      "Data Frame created: Shape: (11578, 2)\n",
      "Author:    44  Size:  4746\n",
      "Author:    64  Size:  5106\n",
      "Author:    82  Size:  1726\n",
      "Min: 1726\n",
      "Max: 5106\n",
      "Authors [44, 64, 82].\n",
      "Found 5178 texts.\n",
      "Found 5178 labels.\n"
     ]
    }
   ],
   "source": [
    "pred = []\n",
    "for index, row in df.iterrows():\n",
    "    doc_id = row.doc_id\n",
    "\n",
    "    author_id = row.author_id\n",
    "\n",
    "    import ast\n",
    "    authorList = ast.literal_eval(row.authorList)\n",
    "    \n",
    "    candidate = len(authorList)\n",
    "    \n",
    "    algo = \"tfidf_svc\"\n",
    "\n",
    "    test = algo # change before run\n",
    "\n",
    "    level = \"word\"\n",
    "\n",
    "    iterations = 30\n",
    "\n",
    "    dropout = 0.5\n",
    "\n",
    "    samples = 3200\n",
    "\n",
    "    dimensions = 200\n",
    "\n",
    "    loc = authorList.index(author_id)\n",
    "\n",
    "    printstate = ((\"doc_id = %s, candidate = %s, \") % (str(doc_id), str(candidate)))\n",
    "    printstate += ((\"samples = %s, \") % (str(samples)))\n",
    "    printstate += ((\"test = %s\") % (str(test)))\n",
    "\n",
    "    print(\"Current test: %s\" % (str(printstate)))\n",
    "    \n",
    "    from sshtunnel import SSHTunnelForwarder\n",
    "    with SSHTunnelForwarder(('144.214.121.15', 22),\n",
    "                            ssh_username='ninadt',\n",
    "                            ssh_password='Ninad123',\n",
    "                            remote_bind_address=('localhost', 3306),\n",
    "                            local_bind_address=('localhost', 3300)):\n",
    "        import UpdateDB as db\n",
    "        case = db.checkOldML(doc_id = doc_id, candidate = candidate, samples = samples,\n",
    "                             test = test, port = 3300)\n",
    "        \n",
    "    if case == False:\n",
    "        \n",
    "        print(\"Running: %12s\" % (str(printstate)))\n",
    "\n",
    "        import StyloML as Stylo\n",
    "        (labels_index, train_acc, val_acc, samples) = Stylo.getResults(\n",
    "            algo, \n",
    "            doc_id = doc_id, authorList = authorList[:], \n",
    "            samples = samples)\n",
    "\n",
    "        (labels_index, testY, predY, samples) = Stylo.getTestResults(\n",
    "            algo, labels_index = labels_index,\n",
    "            doc_id = doc_id, authorList = authorList[:], \n",
    "            samples = samples)\n",
    "        \n",
    "        loc = testY\n",
    "\n",
    "        test_acc = predY[loc]\n",
    "\n",
    "        test_bin = 0\n",
    "\n",
    "        if(predY.tolist().index(max(predY)) == testY):\n",
    "            test_bin = 1\n",
    "        \n",
    "        from sshtunnel import SSHTunnelForwarder\n",
    "        with SSHTunnelForwarder(('144.214.121.15', 22),\n",
    "                                ssh_username='ninadt',\n",
    "                                ssh_password='Ninad123',\n",
    "                                remote_bind_address=('localhost', 3306),\n",
    "                                local_bind_address=('localhost', 3300)):\n",
    "            import UpdateDB as db\n",
    "            case = db.updateresultOldML(doc_id = doc_id, candidate = candidate, samples = samples,\n",
    "                                        train_acc = train_acc, val_acc = val_acc,\n",
    "                                        test_acc = test_acc, test_bin = test_bin,\n",
    "                                        test = test, port = 3300)\n",
    "        \n",
    "        del Stylo\n",
    "        \n",
    "        import time\n",
    "        time.sleep(10)\n",
    "        \n",
    "        from IPython.display import clear_output\n",
    "\n",
    "        clear_output()\n",
    "\n",
    "    else:\n",
    "        print(\"Skipped: %12s\" % (str(printstate)))"
   ]
  },
  {
   "cell_type": "code",
   "execution_count": null,
   "metadata": {
    "collapsed": false
   },
   "outputs": [],
   "source": [
    "# import matplotlib.pyplot as plt\n",
    "# # summarize history for accuracy\n",
    "# plt.plot(history.history['acc'])\n",
    "# plt.plot(history.history['val_acc'])\n",
    "# plt.title('model accuracy')\n",
    "# plt.ylabel('accuracy')\n",
    "# plt.xlabel('epoch')\n",
    "# plt.legend(['train', 'test'], loc='upper left')\n",
    "# plt.show()"
   ]
  },
  {
   "cell_type": "code",
   "execution_count": null,
   "metadata": {
    "collapsed": false
   },
   "outputs": [],
   "source": [
    "# # summarize history for loss\n",
    "# plt.plot(history.history['loss'])\n",
    "# plt.plot(history.history['val_loss'])\n",
    "# plt.title('model loss')\n",
    "# plt.ylabel('loss')\n",
    "# plt.xlabel('epoch')\n",
    "# plt.legend(['train', 'test'], loc='upper left')\n",
    "# plt.show()"
   ]
  },
  {
   "cell_type": "code",
   "execution_count": null,
   "metadata": {
    "collapsed": false
   },
   "outputs": [],
   "source": [
    "%tb"
   ]
  },
  {
   "cell_type": "code",
   "execution_count": null,
   "metadata": {
    "collapsed": true
   },
   "outputs": [],
   "source": [
    ""
   ]
  }
 ],
 "metadata": {
  "anaconda-cloud": {},
  "kernelspec": {
   "display_name": "Python 2",
   "language": "python",
   "name": "python2"
  },
  "language_info": {
   "codemirror_mode": {
    "name": "ipython",
    "version": 2.0
   },
   "file_extension": ".py",
   "mimetype": "text/x-python",
   "name": "python",
   "nbconvert_exporter": "python",
   "pygments_lexer": "ipython2",
   "version": "2.7.13"
  }
 },
 "nbformat": 4,
 "nbformat_minor": 0
}