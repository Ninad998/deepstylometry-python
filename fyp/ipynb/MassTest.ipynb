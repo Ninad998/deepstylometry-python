{
 "cells": [
  {
   "cell_type": "code",
   "execution_count": null,
   "metadata": {
    "collapsed": true
   },
   "outputs": [],
   "source": [
    "import pandas as pd\n",
    "df = pd.read_csv('queryset_CNN.csv')\n",
    "print(df.shape)\n",
    "print(df.dtypes)"
   ]
  },
  {
   "cell_type": "code",
   "execution_count": null,
   "metadata": {
    "collapsed": false,
    "scrolled": true
   },
   "outputs": [],
   "source": [
    "for index, row in df.iterrows():\n",
    "    doc_id = row.doc_id\n",
    "    \n",
    "    import ast\n",
    "    authorList = ast.literal_eval(row.authorList)\n",
    "    \n",
    "    parameters = {\n",
    "        # 'candidate': [2, 3, 4, 5],\n",
    "        # 'dropout': [0.0, 0.1, 0.2, 0.3, 0.4, 0.5],\n",
    "        'samples': [50, 100, 200, 400, 800, 1600, 3200, 6400],\n",
    "        # 'dimensions': [50, 100, 200],\n",
    "        # 'iterations': [20, 40, 60, 80, 100, 120, 140, 160, 180, 200],\n",
    "    }\n",
    "    \n",
    "    print('doc_id: %3s actual author: %4s author_id: %s' % (str(doc_id), str(row.author_id), str(authorList)))\n",
    "    \n",
    "    level = 'word'\n",
    "    \n",
    "    for idxp, paralist in parameters.iteritems():\n",
    "        if idxp == 'samples':\n",
    "            for idxl, val in enumerate(paralist):\n",
    "                doc_id = row.doc_id\n",
    "                \n",
    "                author_id = row.author_id\n",
    "\n",
    "                import ast\n",
    "                authorList = ast.literal_eval(row.authorList)\n",
    "\n",
    "                candidate = len(authorList)\n",
    "\n",
    "                test = idxp # change before run\n",
    "\n",
    "                level = \"word\"\n",
    "\n",
    "                iterations = 30\n",
    "\n",
    "                dropout = 0.4\n",
    "\n",
    "                samples = val\n",
    "                \n",
    "                dimensions = 200\n",
    "\n",
    "                loc = authorList.index(author_id)\n",
    "\n",
    "                printstate = ((\"doc_id = %s, candidate = %s, \") % (str(doc_id), str(candidate)))\n",
    "                printstate += ((\"dimensions = %s, samples = %s, \") % (str(dimensions), str(samples)))\n",
    "                printstate += ((\"\\niterations = %s, dropout = %s, \") % (str(iterations), str(dropout)))\n",
    "                printstate += ((\"test = %s\") % (str(test)))\n",
    "\n",
    "                print(\"Current test: %s\" % (str(printstate)))\n",
    "\n",
    "                import UpdateDB as db\n",
    "\n",
    "                case = db.checkOldCNN(doc_id = doc_id, candidate = candidate, dimensions = dimensions, samples = samples, \n",
    "                                      iterations = iterations, dropout = dropout, test = test)\n",
    "\n",
    "                if case == False:\n",
    "\n",
    "                    print(\"Running: %12s\" % (str(printstate)))\n",
    "        \n",
    "                    import StyloNeural as Stylo\n",
    "                    (labels_index, predYList, predY, history, samples) = Stylo.getResults(\n",
    "                        doc_id = doc_id, authorList = authorList[:], \n",
    "                        level = level, glove = '../../glove/', dimensions = dimensions, \n",
    "                        samples = samples, nb_epoch = iterations, dropout = dropout, batch_size = 16 )\n",
    "                \n",
    "                    for key, auth in labels_index.iteritems():\n",
    "                        if auth == author_id:\n",
    "                            loc = key\n",
    "                            \n",
    "                    ans = predY[loc]\n",
    "\n",
    "                    import UpdateDB as db\n",
    "                    case = db.insertresultOldCNN(doc_id = doc_id, candidate = candidate, dimensions = dimensions, \n",
    "                                                 samples = samples, iterations = iterations, \n",
    "                                                 dropout = dropout, accuracy = ans, test = test)\n",
    "                    \n",
    "                    if case:\n",
    "                        ans = 0.0\n",
    "                        \n",
    "                        if (predY.tolist().index(max(predY)) == loc):\n",
    "                            ans = 1.0\n",
    "                            \n",
    "                        import UpdateDB as db\n",
    "                        case = db.insertresultOldCNN(doc_id = doc_id, candidate = candidate, dimensions = dimensions, \n",
    "                                                     samples = samples, iterations = iterations, dropout = dropout, \n",
    "                                                     accuracy = ans, test = str(test + 'binary'))\n",
    "                    \n",
    "                    else:\n",
    "                        print(\"Skipped: %12s test:   index: %2s\" % (str(idxp), str(idxl)))\n",
    "                        if samples != val:\n",
    "                            break\n",
    "                    \n",
    "                    from IPython.display import clear_output\n",
    "\n",
    "                    clear_output()\n",
    "                else:\n",
    "                    print(\"Skipped: %12s test:   index: %2s\" % (str(idxp), str(idxl)))\n",
    "                "
   ]
  },
  {
   "cell_type": "code",
   "execution_count": null,
   "metadata": {
    "collapsed": true
   },
   "outputs": [],
   "source": [
    "%tb"
   ]
  },
  {
   "cell_type": "code",
   "execution_count": null,
   "metadata": {
    "collapsed": false
   },
   "outputs": [],
   "source": []
  }
 ],
 "metadata": {
  "kernelspec": {
   "display_name": "Python 2",
   "language": "python",
   "name": "python2"
  },
  "language_info": {
   "codemirror_mode": {
    "name": "ipython",
    "version": 2
   },
   "file_extension": ".py",
   "mimetype": "text/x-python",
   "name": "python",
   "nbconvert_exporter": "python",
   "pygments_lexer": "ipython2",
   "version": "2.7.13"
  }
 },
 "nbformat": 4,
 "nbformat_minor": 2
}
