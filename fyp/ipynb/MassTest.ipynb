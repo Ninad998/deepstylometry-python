{
 "cells": [
  {
   "cell_type": "code",
   "execution_count": null,
   "metadata": {
    "collapsed": false
   },
   "outputs": [],
   "source": [
    "import pandas as pd\n",
    "df = pd.read_csv('queryset_CNN.csv')\n",
    "print(df.shape)\n",
    "print(df.dtypes)"
   ]
  },
  {
   "cell_type": "code",
   "execution_count": null,
   "metadata": {
    "collapsed": false,
    "scrolled": true
   },
   "outputs": [],
   "source": [
    "for index, row in df.iterrows():\n",
    "    parameters = {\n",
    "        # 'candidate': [2, 3, 4, 5],\n",
    "        # 'dropout': [0.0, 0.1, 0.2, 0.3, 0.4, 0.5],\n",
    "        'samples': [50, 100, 150, 200, 250, 300, 400, 600, 1000, 1500, 2000, 3000, 4000],\n",
    "        # 'dimensions': [50, 100, 200],\n",
    "        # 'iterations': [40, 80, 120, 160, 200],\n",
    "    }\n",
    "    \n",
    "    print('doc_id: %3s actual author: %4s author_id: %s' % (str(doc_id), str(row.author_id), str(authorList)))\n",
    "    \n",
    "    level = 'word'\n",
    "    \n",
    "    for idxp, paralist in parameters.iteritems():\n",
    "        \n",
    "        if idxp == 'samples':\n",
    "            for idxl, val in enumerate(paralist):\n",
    "                \n",
    "                doc_id = row.doc_id\n",
    "\n",
    "                author_id = row.author_id\n",
    "\n",
    "                import ast\n",
    "                authorList = ast.literal_eval(row.authorList)\n",
    "\n",
    "                val = len(authorList)\n",
    "\n",
    "                test = \"samples\" # change before run\n",
    "\n",
    "                level = \"word\"\n",
    "\n",
    "                iterations = 30\n",
    "\n",
    "                dropout = 0.4\n",
    "\n",
    "                samples = 300\n",
    "\n",
    "                loc = authorList.index(author_id)\n",
    "\n",
    "                printstate = ((\"doc_id = %s, candidate = %s, \") % (str(doc_id), str(val)))\n",
    "                printstate += ((\"dimensions = %s, samples = %s, \") % (str(200), str(samples)))\n",
    "                printstate += ((\"\\niterations = %s, dropout = %s, test = %s\") % (str(iterations), str(dropout), str(test)))\n",
    "\n",
    "                print(\"Current test: %s\" % (str(printstate)))\n",
    "\n",
    "                import UpdateDB as db\n",
    "\n",
    "                case = db.checkOldCNN(doc_id = doc_id, candidate = val, dimensions = 200, samples = 300, \n",
    "                                      iterations = iterations, dropout = dropout, test = test)\n",
    "\n",
    "                if case == False:\n",
    "\n",
    "                    print(\"Running: %12s\" % (str(printstate)))\n",
    "\n",
    "                    import StyloNeural as Stylo\n",
    "                    (labels_index, predYList, predY, history, samples) = Stylo.getResults(\n",
    "                        doc_id = doc_id, authorList = authorList[:], \n",
    "                        level = level, glove = '../../glove/', dimensions = 200, \n",
    "                        samples = samples, nb_epoch = iterations, dropout = dropout, batch_size = 10 )\n",
    "\n",
    "                    for key, auth in labels_index.iteritems():\n",
    "                        if auth == author_id:\n",
    "                            loc = key\n",
    "\n",
    "                    print(\"Loc = %s\" % (str(loc)))\n",
    "\n",
    "                    ans = 0.0\n",
    "\n",
    "                    if (predY.tolist().index(max(predY)) == loc):\n",
    "                        ans = 1.0\n",
    "\n",
    "                    import UpdateDB as db\n",
    "                    case = db.updateresultOldCNN(doc_id = doc_id, candidate = val, dimensions = 200, samples = samples, \n",
    "                                                 iterations = iterations, dropout = dropout, accuracy = predY[loc], \n",
    "                                                 test = test)\n",
    "\n",
    "                    if case == False:\n",
    "                        print(\"Completed: %12s\" % (str(printstate)))\n",
    "\n",
    "                    else:\n",
    "                        print(\"Skipped: %12s\" % (str(printstate)))\n",
    "\n",
    "                    from IPython.display import clear_output\n",
    "                    clear_output()\n",
    "\n",
    "                else:\n",
    "                    print(\"Skipped: %12s\" % (str(printstate)))\n",
    "            "
   ]
  },
  {
   "cell_type": "code",
   "execution_count": null,
   "metadata": {
    "collapsed": false
   },
   "outputs": [],
   "source": [
    "%tb"
   ]
  },
  {
   "cell_type": "code",
   "execution_count": null,
   "metadata": {
    "collapsed": true
   },
   "outputs": [],
   "source": []
  }
 ],
 "metadata": {
  "kernelspec": {
   "display_name": "Python 2",
   "language": "python",
   "name": "python2"
  },
  "language_info": {
   "codemirror_mode": {
    "name": "ipython",
    "version": 2
   },
   "file_extension": ".py",
   "mimetype": "text/x-python",
   "name": "python",
   "nbconvert_exporter": "python",
   "pygments_lexer": "ipython2",
   "version": "2.7.13"
  }
 },
 "nbformat": 4,
 "nbformat_minor": 2
}
