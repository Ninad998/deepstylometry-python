{
 "cells": [
  {
   "cell_type": "code",
   "execution_count": null,
   "metadata": {
    "collapsed": false,
    "deletable": true,
    "editable": true
   },
   "outputs": [
    {
     "name": "stdout",
     "output_type": "stream",
     "text": [
      "(32, 3)\n",
      "doc_id         int64\n",
      "author_id      int64\n",
      "authorList    object\n",
      "dtype: object\n"
     ]
    }
   ],
   "source": [
    "import pandas as pd\n",
    "df = pd.read_csv('queryset_CNN.csv')\n",
    "print(df.shape)\n",
    "print(df.dtypes)"
   ]
  },
  {
   "cell_type": "code",
   "execution_count": null,
   "metadata": {
    "collapsed": false,
    "deletable": true,
    "editable": true,
    "scrolled": true
   },
   "outputs": [
    {
     "name": "stdout",
     "output_type": "stream",
     "text": [
      "Current test: doc_id = 1, candidate = 2, dimensions = 200, samples = 3200, \n",
      "iterations = 30, dropout = 0.5, test = candidate\n",
      "Execution completed\n",
      "Running: doc_id = 1, candidate = 2, dimensions = 200, samples = 3200, \n",
      "iterations = 30, dropout = 0.5, test = candidate\n"
     ]
    },
    {
     "name": "stderr",
     "output_type": "stream",
     "text": [
      "Using Theano backend.\n",
      "Using gpu device 0: GeForce GTX 950 (CNMeM is enabled with initial size: 80.0% of memory, cuDNN 5110)\n",
      "/home/ninadt/anaconda2/lib/python2.7/site-packages/theano/sandbox/cuda/__init__.py:600: UserWarning: Your cuDNN version is more recent than the one Theano officially supports. If you see any problems, try updating Theano or downgrading cuDNN to version 5.\n",
      "  warnings.warn(warn)\n"
     ]
    },
    {
     "name": "stdout",
     "output_type": "stream",
     "text": [
      "Level = Word\n"
     ]
    }
   ],
   "source": [
    "# for index, row in df.iterrows():\n",
    "# doc_id = row.doc_id\n",
    "# import ast\n",
    "# authorList = ast.literal_eval(row.authorList)\n",
    "authorList = [11, 18, 80, 88, 64, 44, 91, 19, 97]\n",
    "\n",
    "doc_id = 1\n",
    "\n",
    "parameters = {\n",
    "    'candidate': [2, 3, 4, 5, 6], # , 7 , 8, 9],\n",
    "    'samples': [320, 1600, 3200],\n",
    "    'dropout': [0.0, 0.1, 0.2, 0.3, 0.4, 0.5],\n",
    "    'dimensions': [50, 100, 200],\n",
    "    'iterations': [10, 20, 40, 80, 120, 240],\n",
    "    'cv': [320, 1600]#, 3200],\n",
    "}\n",
    "\n",
    "# print('doc_id: %3s actual author: %4s author_id: %s' % (str(doc_id), str(row.author_id), str(authorList)))\n",
    "\n",
    "level = 'word'\n",
    "\n",
    "for idxp, paralist in parameters.iteritems():\n",
    "    if idxp == 'candidate':\n",
    "        for idxl, val in enumerate(paralist):\n",
    "            \n",
    "            authorList = [11, 18, 80, 88, 64, 44, 91, 19, 97]\n",
    "            \n",
    "            doc_id = 1\n",
    "\n",
    "            candidate = val\n",
    "\n",
    "            test = idxp # change before run\n",
    "\n",
    "            level = \"word\"\n",
    "\n",
    "            iterations = 30\n",
    "\n",
    "            dropout = 0.5\n",
    "\n",
    "            samples = 3200\n",
    "\n",
    "            dimensions = 200\n",
    "\n",
    "            # loc = authorList.index(author_id)\n",
    "\n",
    "            printstate = ((\"doc_id = %s, candidate = %s, \") % (str(doc_id), str(candidate)))\n",
    "            printstate += ((\"dimensions = %s, samples = %s, \") % (str(dimensions), str(samples)))\n",
    "            printstate += ((\"\\niterations = %s, dropout = %s, test = %s\") % (str(iterations), str(dropout), str(test)))\n",
    "\n",
    "            print(\"Current test: %s\" % (str(printstate)))\n",
    "\n",
    "            import UpdateDB as db\n",
    "\n",
    "            case = db.checkOldCNN(doc_id = doc_id, candidate = candidate, dimensions = dimensions,\n",
    "                                  samples = samples,iterations = iterations, dropout = dropout, \n",
    "                                  test = test)\n",
    "\n",
    "            if case == False:\n",
    "\n",
    "                print(\"Running: %12s\" % (str(printstate)))\n",
    "\n",
    "                import StyloNeuralLSTM as Stylo\n",
    "                (labels_index, history, train_acc, val_acc, samples) = Stylo.getResults(\n",
    "                    doc_id = doc_id, authorList = authorList[:candidate], \n",
    "                    level = level, glove = '../../glove/', dimensions = dimensions, \n",
    "                    samples = samples, nb_epoch = iterations, dropout = dropout, batch_size = 10 )\n",
    "\n",
    "                # for key, auth in labels_index.iteritems():\n",
    "                #     if auth == author_id:\n",
    "                #         loc = key\n",
    "\n",
    "                # ans = predY[loc]\n",
    "                \n",
    "                # count = 0\n",
    "                \n",
    "                # for train_acc, val_acc in zip(train_acc_list, val_acc_list):\n",
    "                    \n",
    "                import UpdateDB as db\n",
    "                case = db.updateresultOldCNN(doc_id = doc_id, candidate = candidate, dimensions = dimensions,\n",
    "                                             samples = samples, iterations = iterations, dropout = dropout,\n",
    "                                             train_acc = train_acc, val_acc = val_acc, \n",
    "                                             test = str(test))# + '-fold-' + str(count)))\n",
    "                #     count = count + 1\n",
    "\n",
    "                # if case:\n",
    "                #     ans = 0.0\n",
    "\n",
    "                #     if (predY.tolist().index(max(predY)) == loc):\n",
    "                #         ans = 1.0\n",
    "                # \n",
    "                #     import UpdateDB as db\n",
    "                #     case = db.updateresultOldCNN(doc_id = doc_id, candidate = candidate, dimensions = dimensions,\n",
    "                #                                  samples = samples, iterations = iterations, dropout = dropout, \n",
    "                #                                  accuracy = ans, test = str(test + 'binary'))\n",
    "\n",
    "                # else:\n",
    "                #     print(\"Skipped: %12s\" % (str(printstate)))\n",
    "                \n",
    "                del Stylo\n",
    "\n",
    "                #from keras import backend as K\n",
    "                #K.clear_session()\n",
    "\n",
    "                import time\n",
    "                time.sleep(10)\n",
    "\n",
    "                from IPython.display import clear_output\n",
    "                clear_output()\n",
    "\n",
    "            else:\n",
    "                print(\"Skipped: %12s\" % (str(printstate)))\n",
    "            \n",
    "        "
   ]
  },
  {
   "cell_type": "code",
   "execution_count": null,
   "metadata": {
    "collapsed": false,
    "deletable": true,
    "editable": true
   },
   "outputs": [],
   "source": [
    "%tb"
   ]
  },
  {
   "cell_type": "code",
   "execution_count": null,
   "metadata": {
    "collapsed": false,
    "deletable": true,
    "editable": true
   },
   "outputs": [],
   "source": []
  }
 ],
 "metadata": {
  "kernelspec": {
   "display_name": "Python 2",
   "language": "python",
   "name": "python2"
  },
  "language_info": {
   "codemirror_mode": {
    "name": "ipython",
    "version": 2
   },
   "file_extension": ".py",
   "mimetype": "text/x-python",
   "name": "python",
   "nbconvert_exporter": "python",
   "pygments_lexer": "ipython2",
   "version": "2.7.13"
  }
 },
 "nbformat": 4,
 "nbformat_minor": 2
}
