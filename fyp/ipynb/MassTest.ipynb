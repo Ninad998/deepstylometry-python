{
 "cells": [
  {
   "cell_type": "code",
   "execution_count": 1,
   "metadata": {
    "collapsed": false
   },
   "outputs": [
    {
     "name": "stdout",
     "output_type": "stream",
     "text": [
      "(14, 3)\n",
      "doc_id         int64\n",
      "author_id      int64\n",
      "authorList    object\n",
      "dtype: object\n"
     ]
    }
   ],
   "source": [
    "import pandas as pd\n",
    "df = pd.read_csv('queryset_CNN.csv')\n",
    "print(df.shape)\n",
    "print(df.dtypes)"
   ]
  },
  {
   "cell_type": "code",
   "execution_count": 2,
   "metadata": {
    "collapsed": false,
    "scrolled": true
   },
   "outputs": [
    {
     "name": "stdout",
     "output_type": "stream",
     "text": [
      "doc_id: 204 actual author:  123 author_id: (123, 81, 23, 214, 161)\n",
      "Current test: iterations\n",
      "  iterations test:   index:  0\n",
      "Error (1146, \"Table 'tests.readings' doesn't exist\")\n"
     ]
    },
    {
     "ename": "SystemExit",
     "evalue": "1",
     "output_type": "error",
     "traceback": [
      "An exception has occurred, use %tb to see the full traceback.\n",
      "\u001b[0;31mSystemExit\u001b[0m\u001b[0;31m:\u001b[0m 1\n"
     ]
    },
    {
     "name": "stderr",
     "output_type": "stream",
     "text": [
      "/home/ninadt/anaconda2/lib/python2.7/site-packages/IPython/core/interactiveshell.py:2889: UserWarning: To exit: use 'exit', 'quit', or Ctrl-D.\n",
      "  warn(\"To exit: use 'exit', 'quit', or Ctrl-D.\", stacklevel=1)\n"
     ]
    }
   ],
   "source": [
    "for index, row in df.iterrows():\n",
    "    doc_id = row.doc_id\n",
    "    \n",
    "    import ast\n",
    "    authorList = ast.literal_eval(row.authorList)\n",
    "    \n",
    "    parameters = {\n",
    "        # 'candidate': [2, 3, 4, 5],\n",
    "        # 'dropout': [0.0, 0.1, 0.2, 0.3, 0.4, 0.5],\n",
    "        'samples': [50, 100, 200, 400, 800, 1600, 3200, 6400],\n",
    "        # 'dimensions': [50, 100, 200],\n",
    "        # 'iterations': [20, 40, 60, 80, 100, 120, 140, 160, 180, 200],\n",
    "    }\n",
    "    \n",
    "    print('doc_id: %3s actual author: %4s author_id: %s' % (str(doc_id), str(row.author_id), str(authorList)))\n",
    "    \n",
    "    level = 'word'\n",
    "    \n",
    "    for idxp, paralist in parameters.iteritems():\n",
    "        if idxp == 'samples':\n",
    "            for idxl, val in enumerate(paralist):\n",
    "                doc_id = row.doc_id\n",
    "                \n",
    "                author_id = row.author_id\n",
    "\n",
    "                import ast\n",
    "                authorList = ast.literal_eval(row.authorList)\n",
    "\n",
    "                candidate = len(authorList)\n",
    "\n",
    "                test = idxp # change before run\n",
    "\n",
    "                level = \"word\"\n",
    "\n",
    "                iterations = 30\n",
    "\n",
    "                dropout = 0.4\n",
    "\n",
    "                samples = val\n",
    "\n",
    "                loc = authorList.index(author_id)\n",
    "\n",
    "                printstate = ((\"doc_id = %s, candidate = %s, \") % (str(doc_id), str(candidate)))\n",
    "                printstate += ((\"dimensions = %s, samples = %s, \") % (str(200), str(samples)))\n",
    "                printstate += ((\"\\niterations = %s, dropout = %s, \") % (str(iterations), str(dropout)))\n",
    "                printstate += ((\"test = %s\") % (str(test)))\n",
    "\n",
    "                print(\"Current test: %s\" % (str(printstate)))\n",
    "\n",
    "                import UpdateDB as db\n",
    "\n",
    "                case = db.checkOldCNN(doc_id = doc_id, candidate = val, dimensions = 200, samples = 300, \n",
    "                                      iterations = iterations, dropout = dropout, test = test)\n",
    "\n",
    "                if case == False:\n",
    "\n",
    "                    print(\"Running: %12s\" % (str(printstate)))\n",
    "\n",
    "                    import StyloNeural as Stylo\n",
    "                    (labels_index, predYList, predY, history, samples) = Stylo.getResults(\n",
    "                        doc_id = doc_id, authorList = authorList[:], \n",
    "                        level = level, glove = '../../glove/', dimensions = 200, \n",
    "                        samples = samples, nb_epoch = iterations, dropout = dropout, batch_size = 10 )\n",
    "\n",
    "                    ans = predY[loc]\n",
    "                    \n",
    "                    import UpdateDB as db\n",
    "                    case = db.updateresultOldCNN(doc_id = doc_id, candidate = candidate, dimensions = 200, \n",
    "                                                 samples = samples, iterations = iterations, dropout = dropout, \n",
    "                                                 accuracy = ans, test = test)\n",
    "\n",
    "                    ans = 0.0\n",
    "\n",
    "                    if (predY.tolist().index(max(predY)) == loc):\n",
    "                        ans = 1.0\n",
    "                        \n",
    "                    \n",
    "                    import UpdateDB as db\n",
    "                    case = db.updateresultOldCNN(doc_id = doc_id, candidate = candidate, dimensions = 200, \n",
    "                                                 samples = samples, iterations = iterations, dropout = dropout, \n",
    "                                                 accuracy = ans, test = str(test + 'binary'))\n",
    "\n",
    "                    from IPython.display import clear_output\n",
    "\n",
    "                    clear_output()\n",
    "                else:\n",
    "                    print(\"Skipped: %12s test:   index: %2s\" % (str(idxp), str(idxl)))\n",
    "                "
   ]
  },
  {
   "cell_type": "code",
   "execution_count": null,
   "metadata": {
    "collapsed": false
   },
   "outputs": [],
   "source": [
    "%tb"
   ]
  },
  {
   "cell_type": "code",
   "execution_count": null,
   "metadata": {
    "collapsed": true
   },
   "outputs": [],
   "source": []
  }
 ],
 "metadata": {
  "kernelspec": {
   "display_name": "Python 2",
   "language": "python",
   "name": "python2"
  },
  "language_info": {
   "codemirror_mode": {
    "name": "ipython",
    "version": 2
   },
   "file_extension": ".py",
   "mimetype": "text/x-python",
   "name": "python",
   "nbconvert_exporter": "python",
   "pygments_lexer": "ipython2",
   "version": "2.7.13"
  }
 },
 "nbformat": 4,
 "nbformat_minor": 2
}
