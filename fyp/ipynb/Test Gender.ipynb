{
 "cells": [
  {
   "cell_type": "code",
   "execution_count": 1,
   "metadata": {
    "collapsed": false
   },
   "outputs": [
    {
     "name": "stdout",
     "output_type": "stream",
     "text": [
      "(32, 3)\n",
      "doc_id         int64\n",
      "author_id      int64\n",
      "authorList    object\n",
      "dtype: object\n"
     ]
    }
   ],
   "source": [
    "import pandas as pd\n",
    "df = pd.read_csv('queryset_CNN.csv')\n",
    "print(df.shape)\n",
    "print(df.dtypes)"
   ]
  },
  {
   "cell_type": "code",
   "execution_count": 2,
   "metadata": {
    "collapsed": false,
    "scrolled": true
   },
   "outputs": [],
   "source": [
    "\n",
    "from sshtunnel import SSHTunnelForwarder\n",
    "for index, row in df.iterrows():\n",
    "    doc_id = row.doc_id\n",
    "    \n",
    "    printstate = ((\"doc_id = %s\") % (str(doc_id)))\n",
    "    \n",
    "    print(\"Current test: %s\" % (str(printstate)))\n",
    "    \n",
    "    with SSHTunnelForwarder(('144.214.121.15', 22),\n",
    "                                ssh_username='ninadt',\n",
    "                                ssh_password='Ninad123',\n",
    "                                remote_bind_address=('localhost', 3306),\n",
    "                                local_bind_address=('localhost', 3300)):\n",
    "        import UpdateDB as db\n",
    "        case = db.checkOldGender(doc_id = doc_id)\n",
    "\n",
    "    if case == False:\n",
    "\n",
    "        print(\"Running: %12s\" % (str(printstate)))\n",
    "\n",
    "        import StyloGender as Stylo\n",
    "        (predY, testY) = Stylo.getTestResults(doc_id = doc_id, glove = '../../glove/',\n",
    "                                              dimensions = 50, chunk_size = 1000, batch_size = 10)\n",
    "        \n",
    "        loc = testY\n",
    "        \n",
    "        test_acc = predY[loc]\n",
    "        \n",
    "        test_bin = 0\n",
    "        \n",
    "        if(predY.tolist().index(max(predY)) == testY):\n",
    "            test_bin = 1\n",
    "        \n",
    "        with SSHTunnelForwarder(('144.214.121.15', 22),\n",
    "                                ssh_username='ninadt',\n",
    "                                ssh_password='Ninad123',\n",
    "                                remote_bind_address=('localhost', 3306),\n",
    "                                local_bind_address=('localhost', 3300)):\n",
    "            import UpdateDB as db\n",
    "            case = db.updateresultOldGender(doc_id = doc_id, test_acc = test_acc, test_bin = test_bin)\n",
    "\n",
    "        del Stylo\n",
    "\n",
    "        from keras import backend as K\n",
    "        K.clear_session()\n",
    "\n",
    "        import time\n",
    "        time.sleep(10)\n",
    "\n",
    "        from IPython.display import clear_output\n",
    "        clear_output()\n",
    "\n",
    "    else:\n",
    "        print(\"Skipped: %12s\" % (str(printstate)))\n"
   ]
  },
  {
   "cell_type": "code",
   "execution_count": 3,
   "metadata": {
    "collapsed": false
   },
   "outputs": [
    {
     "name": "stderr",
     "output_type": "stream",
     "text": [
      "No traceback available to show.\n"
     ]
    }
   ],
   "source": [
    "%tb"
   ]
  },
  {
   "cell_type": "code",
   "execution_count": null,
   "metadata": {
    "collapsed": true
   },
   "outputs": [],
   "source": []
  }
 ],
 "metadata": {
  "anaconda-cloud": {},
  "kernelspec": {
   "display_name": "Python 2",
   "language": "python",
   "name": "python2"
  },
  "language_info": {
   "codemirror_mode": {
    "name": "ipython",
    "version": 2
   },
   "file_extension": ".py",
   "mimetype": "text/x-python",
   "name": "python",
   "nbconvert_exporter": "python",
   "pygments_lexer": "ipython2",
   "version": "2.7.13"
  }
 },
 "nbformat": 4,
 "nbformat_minor": 1
}
