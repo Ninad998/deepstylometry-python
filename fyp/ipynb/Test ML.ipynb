{
 "cells": [
  {
   "cell_type": "code",
   "execution_count": 1,
   "metadata": {
    "collapsed": false
   },
   "outputs": [
    {
     "name": "stdout",
     "output_type": "stream",
     "text": [
      "(32, 3)\n",
      "doc_id         int64\n",
      "author_id      int64\n",
      "authorList    object\n",
      "dtype: object\n"
     ]
    }
   ],
   "source": [
    "import pandas as pd\n",
    "df = pd.read_csv('queryset_CNN.csv')\n",
    "print(df.shape)\n",
    "print(df.dtypes)\n",
    "preds = []"
   ]
  },
  {
   "cell_type": "code",
   "execution_count": 2,
   "metadata": {
    "collapsed": false
   },
   "outputs": [],
   "source": [
    "# for index, row in df.iterrows():\n",
    "# doc_id = row.doc_id\n",
    "# import ast\n",
    "# authorList = ast.literal_eval(row.authorList)\n",
    "authorList = [11, 18, 80, 88, 64, 44, 91, 19, 97]\n",
    "\n",
    "doc_id = 1\n",
    "\n",
    "parameters = {\n",
    "    'candidate': [2, 3, 4, 5, 6], #, 7 , 8, 9],\n",
    "    'samples': [320, 1600, 3200]\n",
    "}\n",
    "\n",
    "# print('doc_id: %3s actual author: %4s author_id: %s' % (str(doc_id), str(row.author_id), str(authorList)))\n",
    "\n",
    "algo = 'tfidf_svc'\n",
    "\n",
    "from sshtunnel import SSHTunnelForwarder\n",
    "\n",
    "for idxp, paralist in parameters.iteritems():\n",
    "    if idxp == 'candidate':\n",
    "        for idxl, val in enumerate(paralist):\n",
    "            \n",
    "            authorList = [11, 18, 80, 88, 64, 44, 91, 19, 97]\n",
    "            \n",
    "            doc_id = 1\n",
    "\n",
    "            candidate = val\n",
    "\n",
    "            test = str(idxp + \"-\" + algo)\n",
    "\n",
    "            samples = 3200\n",
    "            \n",
    "            printstate = ((\"doc_id = %s, candidate = %s, \") % (str(doc_id), str(candidate)))\n",
    "            printstate += ((\"samples = %s, \") % (str(samples)))\n",
    "            printstate += ((\"test = %s\") % (str(test)))\n",
    "\n",
    "            print(\"Current test: %s\" % (str(printstate)))\n",
    "            \n",
    "            with SSHTunnelForwarder(('144.214.121.15', 22),\n",
    "                                ssh_username='ninadt',\n",
    "                                ssh_password='Ninad123',\n",
    "                                remote_bind_address=('localhost', 3306),\n",
    "                                local_bind_address=('localhost', 3300)):\n",
    "                import UpdateDB as db\n",
    "                case = db.checkOldML(port = 3300, doc_id = doc_id, candidate = candidate, samples = samples,\n",
    "                                     test = test)\n",
    "            if case == False:\n",
    "\n",
    "                print(\"Running: %12s\" % (str(printstate)))\n",
    "\n",
    "                import StyloML as Stylo\n",
    "                (labels_index, train_acc, val_acc, samples) = Stylo.getResults(\n",
    "                    algo, \n",
    "                    doc_id = doc_id, authorList = authorList[:candidate], \n",
    "                    samples = samples)\n",
    "\n",
    "                # output = []\n",
    "                \n",
    "                with SSHTunnelForwarder(('144.214.121.15', 22),\n",
    "                                        ssh_username='ninadt',\n",
    "                                        ssh_password='Ninad123',\n",
    "                                        remote_bind_address=('localhost', 3306),\n",
    "                                        local_bind_address=('localhost', 3300)):\n",
    "                    import UpdateDB as db\n",
    "                    case = db.updateresultOldML(port = 3300, doc_id = doc_id, candidate = candidate,\n",
    "                                                samples = samples, train_acc = train_acc, \n",
    "                                                val_acc = val_acc, test = str(test))\n",
    "                # output.append([doc_id, candidate, samples, vals[0], vals[1], \n",
    "                #                str(name + '-' + str(test))])\n",
    "\n",
    "                del Stylo\n",
    "\n",
    "                import time\n",
    "                time.sleep(10)\n",
    "                \n",
    "                from IPython.display import clear_output\n",
    "                clear_output()\n",
    "\n",
    "            else:\n",
    "                print(\"Skipped: %12s\" % (str(printstate)))\n",
    "            \n",
    "    if idxp == 'samples':\n",
    "        for idxl, val in enumerate(paralist):\n",
    "            \n",
    "            authorList = [11, 18, 80, 88, 64] #, 44, 91, 19, 97]\n",
    "            \n",
    "            doc_id = 1\n",
    "\n",
    "            candidate = len(authorList)\n",
    "\n",
    "            test = str(idxp + \"-\" + algo)\n",
    "            \n",
    "            samples = val\n",
    "            \n",
    "            printstate = ((\"doc_id = %s, candidate = %s, \") % (str(doc_id), str(candidate)))\n",
    "            printstate += ((\"samples = %s, \") % (str(samples)))\n",
    "            printstate += ((\"test = %s\") % (str(test)))\n",
    "\n",
    "            print(\"Current test: %s\" % (str(printstate)))\n",
    "            \n",
    "            with SSHTunnelForwarder(('144.214.121.15', 22),\n",
    "                                ssh_username='ninadt',\n",
    "                                ssh_password='Ninad123',\n",
    "                                remote_bind_address=('localhost', 3306),\n",
    "                                local_bind_address=('localhost', 3300)):\n",
    "                import UpdateDB as db\n",
    "                case = db.checkOldML(port = 3300, doc_id = doc_id, candidate = candidate, samples = samples,\n",
    "                                     test = test)\n",
    "\n",
    "            if case == False:\n",
    "                \n",
    "                print(\"Running: %12s\" % (str(printstate)))\n",
    "\n",
    "                import StyloML as Stylo\n",
    "                (labels_index, train_acc, val_acc, samples) = Stylo.getResults(\n",
    "                    algo, \n",
    "                    doc_id = doc_id, authorList = authorList[:], \n",
    "                    samples = samples)\n",
    "\n",
    "                # output = []\n",
    "                \n",
    "                with SSHTunnelForwarder(('144.214.121.15', 22),\n",
    "                                        ssh_username='ninadt',\n",
    "                                        ssh_password='Ninad123',\n",
    "                                        remote_bind_address=('localhost', 3306),\n",
    "                                        local_bind_address=('localhost', 3300)):\n",
    "                    import UpdateDB as db\n",
    "                    case = db.updateresultOldML(port = 3300, doc_id = doc_id, candidate = candidate,\n",
    "                                                samples = samples, train_acc = train_acc, \n",
    "                                                val_acc = val_acc, test = str(test))\n",
    "                # output.append([doc_id, candidate, samples, vals[0], vals[1], \n",
    "                #                str(name + '-' + str(test))])\n",
    "\n",
    "                del Stylo\n",
    "\n",
    "                import time\n",
    "                time.sleep(10)\n",
    "                \n",
    "                from IPython.display import clear_output\n",
    "                clear_output()\n",
    "\n",
    "            else:\n",
    "                print(\"Skipped: %12s\" % (str(printstate)))\n",
    "            "
   ]
  },
  {
   "cell_type": "code",
   "execution_count": 3,
   "metadata": {
    "collapsed": false
   },
   "outputs": [],
   "source": [
    "# import matplotlib.pyplot as plt\n",
    "# # summarize history for accuracy\n",
    "# plt.plot(history.history['acc'])\n",
    "# plt.plot(history.history['val_acc'])\n",
    "# plt.title('model accuracy')\n",
    "# plt.ylabel('accuracy')\n",
    "# plt.xlabel('epoch')\n",
    "# plt.legend(['train', 'test'], loc='upper left')\n",
    "# plt.show()"
   ]
  },
  {
   "cell_type": "code",
   "execution_count": 4,
   "metadata": {
    "collapsed": false
   },
   "outputs": [],
   "source": [
    "# # summarize history for loss\n",
    "# plt.plot(history.history['loss'])\n",
    "# plt.plot(history.history['val_loss'])\n",
    "# plt.title('model loss')\n",
    "# plt.ylabel('loss')\n",
    "# plt.xlabel('epoch')\n",
    "# plt.legend(['train', 'test'], loc='upper left')\n",
    "# plt.show()"
   ]
  },
  {
   "cell_type": "code",
   "execution_count": 5,
   "metadata": {
    "collapsed": false
   },
   "outputs": [
    {
     "name": "stderr",
     "output_type": "stream",
     "text": [
      "No traceback available to show.\n"
     ]
    }
   ],
   "source": [
    "%tb"
   ]
  },
  {
   "cell_type": "code",
   "execution_count": null,
   "metadata": {
    "collapsed": true
   },
   "outputs": [],
   "source": []
  }
 ],
 "metadata": {
  "anaconda-cloud": {},
  "kernelspec": {
   "display_name": "Python 2",
   "language": "python",
   "name": "python2"
  },
  "language_info": {
   "codemirror_mode": {
    "name": "ipython",
    "version": 2
   },
   "file_extension": ".py",
   "mimetype": "text/x-python",
   "name": "python",
   "nbconvert_exporter": "python",
   "pygments_lexer": "ipython2",
   "version": "2.7.13"
  }
 },
 "nbformat": 4,
 "nbformat_minor": 1
}
