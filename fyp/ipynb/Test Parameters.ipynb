{
 "cells": [
  {
   "cell_type": "code",
   "execution_count": 1,
   "metadata": {
    "collapsed": false
   },
   "outputs": [
    {
     "name": "stderr",
     "output_type": "stream",
     "text": [
      "Using Theano backend.\n",
      "Using gpu device 0: GeForce GTX 950 (CNMeM is disabled, cuDNN 5005)\n"
     ]
    }
   ],
   "source": [
    "import ModelCreatorWord as md\n",
    "\n",
    "authorList = [23, 59, 88] \n",
    "doc_id = 227\n",
    "chunk_size = 1000\n",
    "dimensions = 100\n",
    "embedfile = 'glove.6B.' + str(dimensions) + 'd.txt'"
   ]
  },
  {
   "cell_type": "code",
   "execution_count": null,
   "metadata": {
    "collapsed": false
   },
   "outputs": [],
   "source": [
    "# embeddings_index = md.readVectorData(embedfile, GLOVE_DIR='../../glove/')\n",
    "# (testX, textY) = md.loadDocData(authorList, doc_id, chunk_size = chunk_size)"
   ]
  },
  {
   "cell_type": "code",
   "execution_count": null,
   "metadata": {
    "collapsed": false,
    "scrolled": false
   },
   "outputs": [
    {
     "name": "stdout",
     "output_type": "stream",
     "text": [
      "Dimensions: 100     Samples: 100     Dropout: 0.4     Iterations:  80\n",
      "Done compiling.\n",
      "Train on 240 samples, validate on 60 samples\n",
      "Epoch 1/80\n",
      "240/240 [==============================] - 1s - loss: 1.1037 - acc: 0.3292 - val_loss: 1.0963 - val_acc: 0.3833\b\b\b\b\b\b\b\b\b\b\b\b\b\b\b\b\b\b\b\b\b\b\b\b\b\b\b\b\b\b\b\b\b\b\b\b\b\b\b\b\b\b\b\b\b\b\b\b\b\b\b\b\b\b\b\b\b\b\b\b\b\b\b\b\b\b\b\b\b\b\b\b\b\b\b\b\b\b\b\b\b\b\b\b\b\b\b\b\b\b\b\b\b\b\b\b\b\b\b\b\b\b\b\b\b\b\b\b\b\b\b\b\b\b\b\b\b\b\b\b\b\b\b\b\b\b\n",
      "Epoch 2/80\n",
      "240/240 [==============================] - 1s - loss: 1.1076 - acc: 0.2917 - val_loss: 1.0967 - val_acc: 0.4000\b\b\b\b\b\b\b\b\b\b\b\b\b\b\b\b\b\b\b\b\b\b\b\b\b\b\b\b\b\b\b\b\b\b\b\b\b\b\b\b\b\b\b\b\b\b\b\b\b\b\b\b\b\b\b\b\b\b\b\b\b\b\b\b\b\b\b\b\b\b\b\b\b\b\b\b\b\b\b\b\b\b\b\b\b\b\b\b\b\b\b\b\b\b\b\b\b\b\b\b\b\b\b\b\b\b\b\b\b\b\b\b\b\b\b\b\b\b\b\b\b\b\b\b\b\b\n",
      "Epoch 3/80\n",
      "240/240 [==============================] - 1s - loss: 1.0949 - acc: 0.3667 - val_loss: 1.0971 - val_acc: 0.3833\b\b\b\b\b\b\b\b\b\b\b\b\b\b\b\b\b\b\b\b\b\b\b\b\b\b\b\b\b\b\b\b\b\b\b\b\b\b\b\b\b\b\b\b\b\b\b\b\b\b\b\b\b\b\b\b\b\b\b\b\b\b\b\b\b\b\b\b\b\b\b\b\b\b\b\b\b\b\b\b\b\b\b\b\b\b\b\b\b\b\b\b\b\b\b\b\b\b\b\b\b\b\b\b\b\b\b\b\b\b\b\b\b\b\b\b\b\b\b\b\b\b\b\b\b\b\n",
      "Epoch 4/80\n",
      "200/240 [========================>.....] - ETA: 0s - loss: 1.0985 - acc: 0.3150\b\b\b\b\b\b\b\b\b\b\b\b\b\b\b\b\b\b\b\b\b\b\b\b\b\b\b\b\b\b\b\b\b\b\b\b\b\b\b\b\b\b\b\b\b\b\b\b\b\b\b\b\b\b\b\b\b\b\b\b\b\b\b\b\b\b\b\b\b\b\b\b\b\b\b\b\b\b\b"
     ]
    }
   ],
   "source": [
    "parameters = {\n",
    "    'dropout': [0.0, 0.1, 0.2, 0.3, 0.4, 0.5],\n",
    "    'samples': [100, 150, 200, 250, 300, 400, 600, 1000, 1500],\n",
    "    'dimensions': [100, 200], # [50, 100, 200, 300],\n",
    "    # 'dimensions': [50, 100, 200, 300],\n",
    "    'iterations': [20, 40, 60, 80, 100, 120, 140, 160, 180, 200],\n",
    "    # 'iterations': [20, 40, 60, 80, 100, 120, 140, 160, 180, 200],\n",
    "}\n",
    "# resultWord = {\n",
    "#     'dropout': [0, 0, 0, 0, 0, 0],\n",
    "#     'samples': [0, 0, 0, 0, 0, 0],\n",
    "#     'dimensions': [0, 0, 0, 0],\n",
    "#     'iterations': [0, 0, 0, 0, 0, 0, 0, 0, 0, 0],\n",
    "# }\n",
    "resultWord = {\n",
    "    'Parameters': 'Accuracy'\n",
    "}\n",
    "\n",
    "level = 'word'\n",
    "\n",
    "# samplelist = parameters['samples']\n",
    "\n",
    "samples = 100\n",
    "\n",
    "dimensionslist = parameters['dimensions']\n",
    "\n",
    "for dimensions in dimensionslist:\n",
    "    \n",
    "    embeddings_index = md.readVectorData(embedfile, GLOVE_DIR='../../glove/')\n",
    "    \n",
    "    (testX, textY) = md.loadDocData(authorList, doc_id, chunk_size = chunk_size)\n",
    "    \n",
    "    (texts, labels, labels_index) = md.loadAuthData(authorList, doc_id, chunk_size = chunk_size, \n",
    "                                                    samples = samples)\n",
    "    \n",
    "    (trainX, trainY, valX, valY) = md.preProcessTrainVal(texts, labels, chunk_size = chunk_size)\n",
    "    \n",
    "    embedding_matrix = md.prepareEmbeddingMatrix(embeddings_index, EMBEDDING_DIM = dimensions)\n",
    "    \n",
    "    (testX, textY) = md.preProcessTest(testX, labels_index, textY, chunk_size = chunk_size)\n",
    "    \n",
    "    droplist = parameters['dropout']\n",
    "    \n",
    "    for dropout in droplist:\n",
    "        \n",
    "        iterlist = parameters['iterations']\n",
    "        \n",
    "        for iterations in iterlist:\n",
    "            \n",
    "            testpara = (('Dimensions:%4s     Samples:%4s     Dropout:%4s     Iterations:%4s') % (str(dimensions),\n",
    "                                                                                                 samples,\n",
    "                                                                                                 dropout,\n",
    "                                                                                                 iterations))\n",
    "            print(\"%s\" % (str(testpara)))\n",
    "            \n",
    "            model = md.compileModel(len(labels_index), embedding_matrix, chunk_size = chunk_size, \n",
    "                                    DROP_OUT = dropout, EMBEDDING_DIM = dimensions)\n",
    "            \n",
    "            (model, history) = md.fitModel(model, trainX, trainY, valX, valY, nb_epoch = iterations)\n",
    "            \n",
    "            (predYList, predY) = md.predictModel(model, testX)\n",
    "\n",
    "            del model\n",
    "            \n",
    "            print(\"%s \\nPred: %5s\" % (str(testpara), str(predY[0])))\n",
    "            \n",
    "            resultWord[testpara] = predY[0]\n",
    "            \n",
    "            from IPython.display import clear_output\n",
    "            \n",
    "            clear_output()"
   ]
  },
  {
   "cell_type": "code",
   "execution_count": null,
   "metadata": {
    "collapsed": false
   },
   "outputs": [],
   "source": [
    "# print resultWord"
   ]
  },
  {
   "cell_type": "code",
   "execution_count": null,
   "metadata": {
    "collapsed": false
   },
   "outputs": [],
   "source": [
    "resultWord.pop('Parameters')"
   ]
  },
  {
   "cell_type": "code",
   "execution_count": null,
   "metadata": {
    "collapsed": false
   },
   "outputs": [],
   "source": [
    "predmaxkey = max(resultWord, key = resultWord.get)\n",
    "predmaxvalue = resultWord[predmaxkey]\n",
    "print predmaxkey\n",
    "print predmaxvalue"
   ]
  },
  {
   "cell_type": "code",
   "execution_count": null,
   "metadata": {
    "collapsed": true
   },
   "outputs": [],
   "source": [
    "# Dimensions: 100     Samples: 150     Dropout: 0.1     Iterations: 140\n",
    "# 0.730941"
   ]
  },
  {
   "cell_type": "code",
   "execution_count": null,
   "metadata": {
    "collapsed": false
   },
   "outputs": [],
   "source": [
    "# import matplotlib.pyplot as plt\n",
    "# # summarize history for accuracy\n",
    "# plt.plot(history.history['acc'])\n",
    "# plt.plot(history.history['val_acc'])\n",
    "# plt.title('model accuracy')\n",
    "# plt.ylabel('accuracy')\n",
    "# plt.xlabel('epoch')\n",
    "# plt.legend(['train', 'test'], loc='upper left')\n",
    "# plt.show()"
   ]
  },
  {
   "cell_type": "code",
   "execution_count": null,
   "metadata": {
    "collapsed": false
   },
   "outputs": [],
   "source": [
    "# # summarize history for loss\n",
    "# plt.plot(history.history['loss'])\n",
    "# plt.plot(history.history['val_loss'])\n",
    "# plt.title('model loss')\n",
    "# plt.ylabel('loss')\n",
    "# plt.xlabel('epoch')\n",
    "# plt.legend(['train', 'test'], loc='upper left')\n",
    "# plt.show()"
   ]
  },
  {
   "cell_type": "code",
   "execution_count": null,
   "metadata": {
    "collapsed": true
   },
   "outputs": [],
   "source": []
  }
 ],
 "metadata": {
  "anaconda-cloud": {},
  "kernelspec": {
   "display_name": "Python [default]",
   "language": "python",
   "name": "python2"
  },
  "language_info": {
   "codemirror_mode": {
    "name": "ipython",
    "version": 2
   },
   "file_extension": ".py",
   "mimetype": "text/x-python",
   "name": "python",
   "nbconvert_exporter": "python",
   "pygments_lexer": "ipython2",
   "version": "2.7.13"
  }
 },
 "nbformat": 4,
 "nbformat_minor": 1
}
