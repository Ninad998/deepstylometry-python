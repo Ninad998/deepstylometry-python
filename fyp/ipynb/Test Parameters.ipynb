{
 "cells": [
  {
   "cell_type": "code",
   "execution_count": null,
   "metadata": {
    "collapsed": false
   },
   "outputs": [],
   "source": [
    "import ModelCreatorWord as md\n",
    "\n",
    "authorList = [23, 59, 88] \n",
    "doc_id = 227\n",
    "chunk_size = 1000"
   ]
  },
  {
   "cell_type": "code",
   "execution_count": null,
   "metadata": {
    "collapsed": false
   },
   "outputs": [],
   "source": [
    "# embeddings_index = md.readVectorData(embedfile, GLOVE_DIR='../../glove/')\n",
    "# (testX, textY) = md.loadDocData(authorList, doc_id, chunk_size = chunk_size)"
   ]
  },
  {
   "cell_type": "code",
   "execution_count": null,
   "metadata": {
    "collapsed": false,
    "scrolled": false
   },
   "outputs": [],
   "source": [
    "parameters = {\n",
    "    'dropout': [0.0, 0.1, 0.2, 0.3, 0.4, 0.5],\n",
    "    'samples': [100, 150, 200, 250, 300, 400, 600, 1000, 1500],\n",
    "    'dimensions': [50, 100, 200, 300],\n",
    "    # 'dimensions': [50, 100, 200, 300],\n",
    "    'iterations': [20, 40, 60, 80, 100, 120, 140, 160, 180, 200],\n",
    "    # 'iterations': [20, 40, 60, 80, 100, 120, 140, 160, 180, 200],\n",
    "}\n",
    "# resultWord = {\n",
    "#     'dropout': [0, 0, 0, 0, 0, 0],\n",
    "#     'samples': [0, 0, 0, 0, 0, 0],\n",
    "#     'dimensions': [0, 0, 0, 0],\n",
    "#     'iterations': [0, 0, 0, 0, 0, 0, 0, 0, 0, 0],\n",
    "# }\n",
    "resultWord = {\n",
    "    'Parameters': 'Accuracy'\n",
    "}\n",
    "\n",
    "level = 'word'\n",
    "\n",
    "# samplelist = parameters['samples']\n",
    "\n",
    "samples = 100\n",
    "\n",
    "dimensions = 100\n",
    "\n",
    "embedfile = 'glove.6B.' + str(dimensions) + 'd.txt'\n",
    "\n",
    "embeddings_index = md.readVectorData(embedfile, GLOVE_DIR='../../glove/')\n",
    "\n",
    "(testX, textY) = md.loadDocData(authorList, doc_id, chunk_size=chunk_size)\n",
    "\n",
    "(texts, labels, labels_index) = md.loadAuthData(authorList, doc_id, chunk_size=chunk_size,\n",
    "                                                samples=samples)\n",
    "\n",
    "(trainX, trainY, valX, valY) = md.preProcessTrainVal(texts, labels, chunk_size=chunk_size)\n",
    "\n",
    "embedding_matrix = md.prepareEmbeddingMatrix(embeddings_index, EMBEDDING_DIM=dimensions)\n",
    "\n",
    "(testX, textY) = md.preProcessTest(testX, labels_index, textY, chunk_size=chunk_size)\n",
    "\n",
    "dropout = 0.1\n",
    "\n",
    "sampleslist = parameters['samples']\n",
    "\n",
    "for samples in sampleslist:\n",
    "\n",
    "    iterlist = parameters['iterations']\n",
    "\n",
    "    for iterations in iterlist:\n",
    "        testpara = (('Dimensions:%4s     Samples:%4s     Dropout:%4s     Iterations:%4s') % (str(dimensions),\n",
    "                                                                                             samples,\n",
    "                                                                                             dropout,\n",
    "                                                                                             iterations))\n",
    "        print(\"%s\" % (str(testpara)))\n",
    "\n",
    "        model = md.compileModel(len(labels_index), embedding_matrix, chunk_size=chunk_size,\n",
    "                                DROP_OUT=dropout, EMBEDDING_DIM=dimensions)\n",
    "\n",
    "        (model, history) = md.fitModel(model, trainX, trainY, valX, valY, nb_epoch=iterations)\n",
    "\n",
    "        (predYList, predY) = md.predictModel(model, testX)\n",
    "\n",
    "        del model\n",
    "\n",
    "        print(\"%s \\nPred: %5s\" % (str(testpara), str(predY[0])))\n",
    "\n",
    "        resultWord[testpara] = predY[0]\n",
    "\n",
    "        from IPython.display import clear_output\n",
    "\n",
    "        clear_output()"
   ]
  },
  {
   "cell_type": "code",
   "execution_count": null,
   "metadata": {
    "collapsed": false
   },
   "outputs": [],
   "source": [
    "# print resultWord"
   ]
  },
  {
   "cell_type": "code",
   "execution_count": null,
   "metadata": {
    "collapsed": false
   },
   "outputs": [],
   "source": [
    "resultWord.pop('Parameters')"
   ]
  },
  {
   "cell_type": "code",
   "execution_count": null,
   "metadata": {
    "collapsed": false
   },
   "outputs": [],
   "source": [
    "predmaxkey = max(resultWord, key = resultWord.get)\n",
    "predmaxvalue = resultWord[predmaxkey]\n",
    "print predmaxkey\n",
    "print predmaxvalue"
   ]
  },
  {
   "cell_type": "code",
   "execution_count": null,
   "metadata": {
    "collapsed": true
   },
   "outputs": [],
   "source": [
    "# Dimensions: 200     Samples: 100     Dropout: 0.1     Iterations: 160\n",
    "# 0.926882"
   ]
  },
  {
   "cell_type": "code",
   "execution_count": null,
   "metadata": {
    "collapsed": false
   },
   "outputs": [],
   "source": [
    "# import matplotlib.pyplot as plt\n",
    "# # summarize history for accuracy\n",
    "# plt.plot(history.history['acc'])\n",
    "# plt.plot(history.history['val_acc'])\n",
    "# plt.title('model accuracy')\n",
    "# plt.ylabel('accuracy')\n",
    "# plt.xlabel('epoch')\n",
    "# plt.legend(['train', 'test'], loc='upper left')\n",
    "# plt.show()"
   ]
  },
  {
   "cell_type": "code",
   "execution_count": null,
   "metadata": {
    "collapsed": false
   },
   "outputs": [],
   "source": [
    "# # summarize history for loss\n",
    "# plt.plot(history.history['loss'])\n",
    "# plt.plot(history.history['val_loss'])\n",
    "# plt.title('model loss')\n",
    "# plt.ylabel('loss')\n",
    "# plt.xlabel('epoch')\n",
    "# plt.legend(['train', 'test'], loc='upper left')\n",
    "# plt.show()"
   ]
  },
  {
   "cell_type": "code",
   "execution_count": null,
   "metadata": {
    "collapsed": true
   },
   "outputs": [],
   "source": []
  }
 ],
 "metadata": {
  "anaconda-cloud": {},
  "kernelspec": {
   "display_name": "Python [default]",
   "language": "python",
   "name": "python2"
  },
  "language_info": {
   "codemirror_mode": {
    "name": "ipython",
    "version": 2
   },
   "file_extension": ".py",
   "mimetype": "text/x-python",
   "name": "python",
   "nbconvert_exporter": "python",
   "pygments_lexer": "ipython2",
   "version": "2.7.13"
  }
 },
 "nbformat": 4,
 "nbformat_minor": 1
}
