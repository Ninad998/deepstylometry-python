{
 "cells": [
  {
   "cell_type": "code",
   "execution_count": 1,
   "metadata": {
    "collapsed": false
   },
   "outputs": [
    {
     "name": "stdout",
     "output_type": "stream",
     "text": [
      "(33, 3)\n",
      "doc_id         int64\n",
      "author_id      int64\n",
      "authorList    object\n",
      "dtype: object\n"
     ]
    }
   ],
   "source": [
    "import pandas as pd\n",
    "df = pd.read_csv('queryset_CNN.csv')\n",
    "print(df.shape)\n",
    "print(df.dtypes)\n",
    "preds = []"
   ]
  },
  {
   "cell_type": "code",
   "execution_count": 2,
   "metadata": {
    "collapsed": false,
    "scrolled": true
   },
   "outputs": [],
   "source": [
    "for index, row in df.iterrows():\n",
    "    doc_id = row.doc_id\n",
    "    \n",
    "    author_id = row.author_id\n",
    "    \n",
    "    import ast\n",
    "    authorList = ast.literal_eval(row.authorList)\n",
    "    \n",
    "    val = len(authorList)\n",
    "    \n",
    "    test = \"initial\" # change before run\n",
    "    \n",
    "    level = \"word\"\n",
    "    \n",
    "    samples = 300\n",
    "    \n",
    "    loc = authorList.index(author_id)\n",
    "    \n",
    "    printstate = ((\"doc_id = %s, candidate = %s, \") % (str(doc_id), str(val)))\n",
    "    printstate += ((\"samples = %s, \") % (str(samples)))\n",
    "    printstate += ((\"test = %s\") % (str(test)))\n",
    "    \n",
    "    print(\"Current test: %s\" % (str(printstate)))\n",
    "    \n",
    "    import UpdateDB as db\n",
    "    \n",
    "    case = db.checkSVC(doc_id = doc_id, candidate = val, samples = samples, test = test)\n",
    "    \n",
    "    if case == False:\n",
    "        \n",
    "        print(\"Running: %12s\" % (str(printstate)))\n",
    "        \n",
    "        import StyloSVC as Stylo\n",
    "        (labels_index, predYList, predY, samples) = Stylo.getResults(doc_id = doc_id, authorList = authorList[:])\n",
    "        \n",
    "        for key, auth in labels_index.iteritems():\n",
    "            if auth == author_id:\n",
    "                loc = key\n",
    "        \n",
    "        ans = predY[loc]\n",
    "        \n",
    "        preds.append(predYList)\n",
    "        \n",
    "        import UpdateDB as db\n",
    "        case = db.updateresultSVC(doc_id = doc_id, candidate = val, samples = samples, \n",
    "                                  accuracy = ans, test = test)\n",
    "        \n",
    "        if case == False:\n",
    "            print(\"Completed: %12s\" % (str(printstate)))\n",
    "            \n",
    "        else:\n",
    "            print(\"Skipped: %12s\" % (str(printstate)))\n",
    "        \n",
    "        from IPython.display import clear_output\n",
    "        clear_output()\n",
    "    \n",
    "    else:\n",
    "        print(\"Skipped: %12s\" % (str(printstate)))\n",
    "                "
   ]
  },
  {
   "cell_type": "code",
   "execution_count": 3,
   "metadata": {
    "collapsed": false
   },
   "outputs": [],
   "source": [
    "# import matplotlib.pyplot as plt\n",
    "# # summarize history for accuracy\n",
    "# plt.plot(history.history['acc'])\n",
    "# plt.plot(history.history['val_acc'])\n",
    "# plt.title('model accuracy')\n",
    "# plt.ylabel('accuracy')\n",
    "# plt.xlabel('epoch')\n",
    "# plt.legend(['train', 'test'], loc='upper left')\n",
    "# plt.show()"
   ]
  },
  {
   "cell_type": "code",
   "execution_count": 4,
   "metadata": {
    "collapsed": false
   },
   "outputs": [],
   "source": [
    "# # summarize history for loss\n",
    "# plt.plot(history.history['loss'])\n",
    "# plt.plot(history.history['val_loss'])\n",
    "# plt.title('model loss')\n",
    "# plt.ylabel('loss')\n",
    "# plt.xlabel('epoch')\n",
    "# plt.legend(['train', 'test'], loc='upper left')\n",
    "# plt.show()"
   ]
  },
  {
   "cell_type": "code",
   "execution_count": 5,
   "metadata": {
    "collapsed": false
   },
   "outputs": [
    {
     "name": "stderr",
     "output_type": "stream",
     "text": [
      "No traceback available to show.\n"
     ]
    }
   ],
   "source": [
    "%tb"
   ]
  },
  {
   "cell_type": "code",
   "execution_count": 6,
   "metadata": {
    "collapsed": false,
    "scrolled": true
   },
   "outputs": [
    {
     "name": "stdout",
     "output_type": "stream",
     "text": [
      "[2 2 0 0 2 0 2 2 1 0 0 2 0 0 0 2 0 0 2 0 0 0 0 1 0 2 0 1 0 0 0 0 0 0 1 2 2\n",
      " 1 1 1 0 1 0]\n",
      "[0 0 0 0 0 0 0 0 0 0 0 0 0 0 0 0 0 0 0 0 0 0 0 0 0 0 0 0 1 1 0 0]\n",
      "[0 1 2 2 1 2 2 1 1 0 1 2 2 2 1 0 2 0 0 1 0 0 0 0 2 2 0 2 1 1 2 2 1 0 2 2 0\n",
      " 1 0 1 2 2 0 0 0 0 2 2 0 0 0 1]\n",
      "[0 0 0 0 0 0 1 1 0 1 0 0 0 1 1 1 0 0 0 1 1 1 1 1 1 1 1 1 1 1 1 1 0 0 0 1 1\n",
      " 1 1 0 1 1 1 0 0 1 1 1 1 0 1 1 1 1 1 0 1 0 1 1 1 1 1 1 1 1 1 0 1 0 0]\n",
      "[0 0 0 0 0 0 0 0 0 0 0 0 0 0 0 0 0 0 0 0 0 0 0 0 0 0 0 0 0 2 0 0 0 0 0 0 0\n",
      " 0 2 2 0 0 0 2 0 0 0 0 0 0 0 2 2 2 0 0 2]\n",
      "[0 1 1 1 1 1 1 1 1 1 1 1 1 1 1 1 0 0 1 1 1 1 0 1 1 1 1 1 1 0 1 1 1 1 1 1 1\n",
      " 1 0 1 1 1 1 1 1 1 1 1 0 1 0 1 0 1 1 1 1 1 1 0 1 1 1 1 0 1 1 1 1 1 0 1 0 1\n",
      " 1 1 1 0 0 1 1 1]\n",
      "[0 0 0 0 0 0 0 0 0 0 0 0 0 0 0 0 0 0 0 0 0 0 0 0 0 0 0 0 0 0 0 0 0 0 0 1 0\n",
      " 0 0 0 0 0 0 0 0 0 0]\n",
      "[0 0 0 0 0 0 0 0 0 0 0 0 0 0 1 0 0 0 0 0 0 0 0 0 0 0]\n",
      "[0 0 0 0 1 1 1 0 0 0 0 1 0 1 0 0 0 0 0 0 0 1 0 0 0 0 0 0 0 0 0 0 0 0 0 0 0\n",
      " 0 0 0 0 0 0 0 1 0 1 1 0 0 1 0 0 0 0 0 0 0 1 0 0 0 0 0 0 0 0 0 0 1 0 0 0 0\n",
      " 0 0 1 0 0 0 0 0 0 0 0 0 1 0 0 0 0 0 0 0 0 0 0 0 0 0 0 0 0 0 0 0]\n",
      "[1 2 2 2 1 2 2 2 1 2 2 2 2 2 2 1 2 2 2 2 2 2 2 2 2 1 2 2 2 2 2 2 2 2 2 2 2\n",
      " 2 2 2 2 2 2 2 1 2 2 1 2 2 2 2 2 2 2 2 2 2 2 2 2 2 2 1 2]\n",
      "[0 1 0 0 1 1 0 0 1 0 0 0 0 0 0 0 0 1 1 0 0 0 0 0 0 0 0 0 1 0 0 1 0 0 1 0 1\n",
      " 0 0 0 2 2 0 1 0 0 1 0 1 0 2 0 0 0 0 0 0 0 1 0 0 2 2 0 2 2 0 0 0 0 1 0 2 2\n",
      " 0 0 0]\n",
      "[1 1 1 1 1 1 1 0 2 2 2 2 2 1 1 1 1 0 1 1 1 1 1 1 1 1 1 1 1 1 1 1 1 1 1 1 1\n",
      " 1 1 1 1 1 0 0 0 1 0 2 1 1 1 2 2 2 1 2 2 1 1 1 1 2 1 1 1 2 2 1 1 2 1 1 1 1\n",
      " 1 1 1 1 1 1 1 2 1 1 1 1 2 1 1 2 2 2 2 2 2]\n",
      "[1 0 1 0 0 1 1 0 1 1 1 0 0 0 0 0 1 1 0 1 0 0 1 0 0 1 1 1 1 0 0 0 0 0 0 1 1\n",
      " 0 0 0 1 0 0 0 1 1]\n",
      "[0 0 0 1 1 0 0 0 0 1 0 1 1 1 0 0 0 0 0 0 0 0 0 0 0 0 0 0 0 0 0 0 0 0 0 0 0\n",
      " 0 0 0 0 0 0 0 1 0 0 0 0 0 0 0 0]\n",
      "[0 0 0 1 1 0 0 0 0 1 0 1 1 1 0 0 0 0 0 0 0 0 0 0 0 0 0 0 0 0 0 0 0 0 0 0 0\n",
      " 0 0 0 0 0 0 0 1 0 0 0 0 0 0 0 0]\n",
      "[3 3 2 2 3 3 0 1 3 3 3 3 3 2 2 3 3 3 3 3 3 3 3 3 3 3 3 3 3 3 3 3 3 3 3 3 3\n",
      " 3 1 3 2 2 3 3 3 3 3 3 3 3 3 3 3 3 3 2 3 3 3 3 3 3 3 3 3 3 3 3 3 3 3 3 2 3\n",
      " 3 3 3 3 3 3 3 3 3 3 3 3 3 3 3 3 3]\n",
      "[0 0 0 0 0 0 0 0 0 0 0 0 0 0 0 0 0 0 0 0 0 0 0 0 0 0 0 0 0 0 0 0 0 0 0 0 0\n",
      " 0 0 0 0 0 0 0 0 0 0 0 0 0 0 0 0 0 0 0 0 0 0 1 0 0 1 0 0 0 0 0 0 0 0 0 0 0\n",
      " 0]\n",
      "[0 1 0 0 0 0 0 0 0 0 0 0 0 0 0 0 0 0 0 0 0 0 0 1 0 0 0 0 0 0 0 0 0 0 0 0 0\n",
      " 0 0 0 0 0 1 0 0 0 0 0 0 0 0 0 0 0 1 1 0 1 1]\n",
      "[2 2 2 2 2 2 2 2 3 3 3 2 3 2 1 3 2 2 2 2 2 3 2 2 2 2 3 1 2 3 2 2 2 2 2 2 2\n",
      " 2 2 2 1 2 2 2 2 2 2 3 2 2 2 2 2 3 2 2 2 2 3 2 2 2 2 2 3 2 2 2 2 2 2 2 2 2\n",
      " 3 3 3 3 2 2 2 3 2 2 3 2 1 3 2 3 2 2 2 2 2]\n",
      "[0 0 1 1 1 0 1 0 1 1 1 0 0 0 0 1 1 0 0 0 1 1 0 0 1 1 1 1 1 1 1 0 1 1 1 0 0\n",
      " 1 1 1 0 1 0 0 0 0 0 0 0 1 1 1 1 0 0 0 1 1 1 0]\n",
      "[0 0 1 0 0 1 0 0 0 0 0 0 0 0 1 0 0 1 0 0 1 1 1 1 0 0 0 1 0 0 1 1 0 0 0 0 0\n",
      " 1 1 1 1 1 1 1 1 0 1 1 1 0 1 0 0 0 0 0]\n",
      "[1 1 1 1 1 2 1 0 0 0 1 0 1 2 0 0 2 1 0 2 0 0 0 0 0 0 0 1 0 0 1 2 1 0 0 0 0\n",
      " 2 2 2 0 2 2 2 0 2 1 1 0 1 2 0 2 1 0 2 2 1 2 2 2 2 1 2 2 2 2 2 0 0 2 2 2 2\n",
      " 2]\n",
      "[0 2 2 1 2 1 0 0 0 0 1 0 0 2 0 0 0 2 0 0 0 0 0 2 2 2 0 1 1 2 2 2 2 1 2 2 2\n",
      " 0 0 2 2 2 1 1 1 2 1 0 2 1 0 0 0 0 0 0 0]\n",
      "[0 1 1 1 1 1 0 0 0 0 1 0 0 0 0 0 0 1 1 0 0 0 0 1 1 1 0 1 0 0 0 1 1 0 1 0 1]\n",
      "[0 0 0 0 0 0 0 0 0 0 3 0 0 0 0 0 0 0 0 0 0 0 0 0 0 0 0 0 0 0 0 0 0 1 0 0 0\n",
      " 0 1 0 2 0 0 3 0 1]\n",
      "[0 0 2 0 1 0 0 0 0 0 0 1 0 1 1 0 1 0 0 1 1 0 1 0 0 0 2 2 1 1 2 1 0 2 0 0 0\n",
      " 0 0 0 0 0 0 0 2 0 0 1 0 0 0 0 0 0 0 1 0 0 0 0 1 2 2 0 0 2 0]\n",
      "[0 0 0 0 0 0 0 0 0 0 0 0 0 0 0 0 0 0 0 0 0 0 0 0 0 0 0 0 0 0 0 0 0 0 0 0 0\n",
      " 0 0 0 1 0 1 0 1 0 0 0 0 0 0 0 0 0 0 0 0 0 0 0 1 1 0 0 0 0 0 0 0 0 0 0 0 0\n",
      " 0 1 0 1 0]\n",
      "[0 0 0 0 1 0 1 1 0 1 0 0 0 0 0 0 0 0 0 0 0 0 0 1 0 0 0 1 0 0 0 0 0 0 1 0 0\n",
      " 1 0 0 0 0 0 0 0 1 1 1 1 0 0 0 0 1 0 1 0 1 1 1 1 0 0 0 1 0 1 1 0 1 1 1 0 1\n",
      " 0 0 0]\n",
      "[1 1 3 1 3 3 0 1 1 0 1 3 3 3 0 3 3 1 3 3 0 1 3 1 1 3 3 0 0 1 3 1 3 1 1 1 3\n",
      " 3 3 1 0 3]\n",
      "[0 2 2 0 0 0 0 0 0 0 0 0 0 0 0 0 2 0 2 2 0 0 0 0 0 0 0 0 0 0 2 0 2 2 0 2 2\n",
      " 0 0 0 0 2 2 2 0 2 2 2 2 0 0]\n",
      "[1 1 1 1 1 1 1 2 1 2 2 2 2 1 1 1 2 2 2 1 2 1 1 1]\n",
      "[0 1 0 2 2 2 0 1 2 1 3 1 1 1 3 3 1 1 1 2 1 1 2 0 2 1 1 1 0 1 1 1 0 0 1 0 0\n",
      " 1 1 1 0 0 1 1 1 1 2 2 3 0 0 1 1 0 2 0 0 1 1 1 1 0 2 3 1 1 1 1 0 1 0 0 0]\n",
      "[0 1 1 1 1 0 1 1 1 1 1 1 1 1 1 0 1 1 0 0 0 0 1 1 1 0 0 1 0 1 1 1 1 1 1 1 1\n",
      " 1 1 0 0]\n"
     ]
    }
   ],
   "source": [
    "for pred in preds:\n",
    "    print pred"
   ]
  },
  {
   "cell_type": "code",
   "execution_count": null,
   "metadata": {
    "collapsed": true
   },
   "outputs": [],
   "source": []
  }
 ],
 "metadata": {
  "anaconda-cloud": {},
  "kernelspec": {
   "display_name": "Python 2",
   "language": "python",
   "name": "python2"
  },
  "language_info": {
   "codemirror_mode": {
    "name": "ipython",
    "version": 2
   },
   "file_extension": ".py",
   "mimetype": "text/x-python",
   "name": "python",
   "nbconvert_exporter": "python",
   "pygments_lexer": "ipython2",
   "version": "2.7.13"
  }
 },
 "nbformat": 4,
 "nbformat_minor": 1
}
