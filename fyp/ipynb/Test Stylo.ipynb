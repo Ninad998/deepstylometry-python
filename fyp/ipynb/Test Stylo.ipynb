{
 "cells": [
  {
   "cell_type": "code",
   "execution_count": null,
   "metadata": {
    "collapsed": false
   },
   "outputs": [],
   "source": [
    "import pandas as pd\n",
    "df = pd.read_csv('queryset_CNN.csv')\n",
    "print(df.shape)\n",
    "print(df.dtypes)"
   ]
  },
  {
   "cell_type": "code",
   "execution_count": null,
   "metadata": {
    "collapsed": false,
    "scrolled": true
   },
   "outputs": [],
   "source": [
    "\n",
    "for index, row in df.iterrows():\n",
    "    doc_id = row.doc_id\n",
    "\n",
    "    author_id = row.author_id\n",
    "\n",
    "    import ast\n",
    "    authorList = ast.literal_eval(row.authorList)\n",
    "    \n",
    "    candidate = len(authorList)\n",
    "\n",
    "    test = \"batch10\" # change before run\n",
    "\n",
    "    level = \"word\"\n",
    "\n",
    "    iterations = 30\n",
    "\n",
    "    dropout = 0.5\n",
    "\n",
    "    samples = 3200\n",
    "\n",
    "    dimensions = 200\n",
    "\n",
    "    loc = authorList.index(author_id)\n",
    "\n",
    "    printstate = ((\"doc_id = %s, candidate = %s, \") % (str(doc_id), str(candidate)))\n",
    "    printstate += ((\"dimensions = %s, samples = %s, \") % (str(dimensions), str(samples)))\n",
    "    printstate += ((\"\\niterations = %s, dropout = %s, test = %s\") % (str(iterations), str(dropout), str(test)))\n",
    "\n",
    "    print(\"Current test: %s\" % (str(printstate)))\n",
    "    \n",
    "    import UpdateDB as db\n",
    "    case = db.checkCNN(doc_id = doc_id, candidate = candidate, dimensions = dimensions,\n",
    "                       samples = samples, iterations = iterations, dropout = dropout,\n",
    "                       test = test)\n",
    "\n",
    "    if case == False:\n",
    "\n",
    "        print(\"Running: %12s\" % (str(printstate)))\n",
    "\n",
    "        import StyloNeural as Stylo\n",
    "        (labels_index, history, train_acc, val_acc, samples) = Stylo.getResults(\n",
    "            doc_id = doc_id, authorList = authorList[:], \n",
    "            level = level, glove = '../../glove/', dimensions = dimensions, \n",
    "            samples = samples, nb_epoch = iterations, dropout = dropout, batch_size = 10 )\n",
    "\n",
    "        (predYList, predY, testY) = Stylo.getTestResults(\n",
    "            doc_id = doc_id, authorList = authorList[:], labels_index = labels_index,\n",
    "            level = level, glove = '../../glove/', dimensions = dimensions, \n",
    "            samples = samples, nb_epoch = iterations, dropout = dropout, batch_size = 10 )\n",
    "\n",
    "        loc = testY\n",
    "        \n",
    "        test_acc = predY[loc]\n",
    "\n",
    "        test_bin = 0\n",
    "\n",
    "        if(predY.tolist().index(max(predY)) == testY):\n",
    "            test_bin = 1\n",
    "        \n",
    "        import UpdateDB as db\n",
    "        case = db.updateresultCNN(doc_id = doc_id, candidate = candidate, dimensions = dimensions,\n",
    "                                  samples = samples, iterations = iterations, dropout = dropout,\n",
    "                                  train_acc = train_acc, val_acc = val_acc,\n",
    "                                  test_acc = test_acc, test_bin = test_bin,\n",
    "                                  test = test)\n",
    "                                     \n",
    "        del Stylo\n",
    "\n",
    "        from keras import backend as K\n",
    "        K.clear_session()\n",
    "\n",
    "        import time\n",
    "        time.sleep(10)\n",
    "        \n",
    "        from IPython.display import clear_output\n",
    "\n",
    "        clear_output()\n",
    "\n",
    "    else:\n",
    "        print(\"Skipped: %12s\" % (str(printstate)))\n",
    "\n",
    "\n",
    "# import pandas as pd\n",
    "# df = pd.DataFrame(output)\n",
    "# df.to_csv(\"styloout.csv\", index = False, encoding='utf-8')\n",
    "\n",
    "import time\n",
    "time.sleep(10)"
   ]
  },
  {
   "cell_type": "code",
   "execution_count": null,
   "metadata": {
    "collapsed": false
   },
   "outputs": [],
   "source": [
    "%tb"
   ]
  },
  {
   "cell_type": "code",
   "execution_count": null,
   "metadata": {
    "collapsed": true
   },
   "outputs": [],
   "source": []
  }
 ],
 "metadata": {
  "anaconda-cloud": {},
  "kernelspec": {
   "display_name": "Python 2",
   "language": "python",
   "name": "python2"
  },
  "language_info": {
   "codemirror_mode": {
    "name": "ipython",
    "version": 2
   },
   "file_extension": ".py",
   "mimetype": "text/x-python",
   "name": "python",
   "nbconvert_exporter": "python",
   "pygments_lexer": "ipython2",
   "version": "2.7.13"
  }
 },
 "nbformat": 4,
 "nbformat_minor": 1
}
