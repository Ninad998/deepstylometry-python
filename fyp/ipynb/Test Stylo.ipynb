{
 "cells": [
  {
   "cell_type": "code",
   "execution_count": null,
   "metadata": {
    "collapsed": false
   },
   "outputs": [],
   "source": [
    "import pandas as pd\n",
    "df = pd.read_csv('queryset_CNN.csv')\n",
    "print(df.shape)\n",
    "print(df.dtypes)"
   ]
  },
  {
   "cell_type": "code",
   "execution_count": null,
   "metadata": {
    "collapsed": false,
    "scrolled": true
   },
   "outputs": [],
   "source": [
    "## for index, row in df.iterrows():\n",
    "# doc_id = row.doc_id\n",
    "\n",
    "# author_id = row.author_id\n",
    "\n",
    "# import ast\n",
    "# authorList = ast.literal_eval(row.authorList)\n",
    "\n",
    "authorList = [11, 18, 80, 88, 64]\n",
    "doc_id = 1\n",
    "\n",
    "candidate = len(authorList)\n",
    "\n",
    "test = \"batch10\" # change before run\n",
    "\n",
    "level = \"word\"\n",
    "\n",
    "iterations = 30\n",
    "\n",
    "dropout = 0.5\n",
    "\n",
    "samples = 3200\n",
    "\n",
    "dimensions = 200\n",
    "\n",
    "# loc = authorList.index(author_id)\n",
    "\n",
    "printstate = ((\"doc_id = %s, candidate = %s, \") % (str(doc_id), str(candidate)))\n",
    "printstate += ((\"dimensions = %s, samples = %s, \") % (str(dimensions), str(samples)))\n",
    "printstate += ((\"\\niterations = %s, dropout = %s, test = %s\") % (str(iterations), str(dropout), str(test)))\n",
    "\n",
    "print(\"Current test: %s\" % (str(printstate)))\n",
    "\n",
    "import UpdateDB as db\n",
    "\n",
    "case = db.checkOldCNN(doc_id = doc_id, candidate = candidate, dimensions = dimensions, samples = samples,\n",
    "                      iterations = iterations, dropout = dropout, test = test)\n",
    "\n",
    "if case == False:\n",
    "\n",
    "    print(\"Running: %12s\" % (str(printstate)))\n",
    "\n",
    "    import StyloNeural as Stylo\n",
    "    (labels_index, history, train_acc, val_acc, samples) = Stylo.getResults(\n",
    "        doc_id = doc_id, authorList = authorList[:], \n",
    "        level = level, glove = '../../glove/', dimensions = dimensions, \n",
    "        samples = samples, nb_epoch = iterations, dropout = dropout, batch_size = 10 )\n",
    "\n",
    "    # for key, auth in labels_index.iteritems():\n",
    "    #     if auth == author_id:\n",
    "    #         loc = key\n",
    "            \n",
    "    # ans = predY[loc]\n",
    "\n",
    "    import UpdateDB as db\n",
    "    case = db.updateresultOldCNN(doc_id = doc_id, candidate = candidate, dimensions = dimensions,\n",
    "                                 samples = samples, iterations = iterations, dropout = dropout, \n",
    "                                 train_acc = train_acc, val_acc = val_acc, test = test)\n",
    "s\n",
    "    # if case:\n",
    "    #     ans = 0.0\n",
    "    \n",
    "    #     if (predY.tolist().index(max(predY)) == loc):\n",
    "    #         ans = 1.0\n",
    "    # \n",
    "    #     import UpdateDB as db\n",
    "    #     case = db.updateresultOldCNN(doc_id = doc_id, candidate = candidate, dimensions = dimensions,\n",
    "    #                                  samples = samples, iterations = iterations, dropout = dropout, \n",
    "    #                                  accuracy = ans, test = str(test + 'binary'))\n",
    "\n",
    "    # else:\n",
    "    #     print(\"Skipped: %12s\" % (str(printstate)))\n",
    "\n",
    "    del Stylo\n",
    "\n",
    "    from keras import backend as K\n",
    "    K.clear_session()\n",
    "\n",
    "    import time\n",
    "    time.sleep(10)\n",
    "\n",
    "    # from IPython.display import clear_output\n",
    "    # clear_output()\n",
    "\n",
    "else:\n",
    "    print(\"Skipped: %12s\" % (str(printstate)))\n"
   ]
  },
  {
   "cell_type": "code",
   "execution_count": null,
   "metadata": {
    "collapsed": false
   },
   "outputs": [],
   "source": [
    "%tb"
   ]
  },
  {
   "cell_type": "code",
   "execution_count": null,
   "metadata": {
    "collapsed": true
   },
   "outputs": [],
   "source": []
  }
 ],
 "metadata": {
  "anaconda-cloud": {},
  "kernelspec": {
   "display_name": "Python 2",
   "language": "python",
   "name": "python2"
  },
  "language_info": {
   "codemirror_mode": {
    "name": "ipython",
    "version": 2
   },
   "file_extension": ".py",
   "mimetype": "text/x-python",
   "name": "python",
   "nbconvert_exporter": "python",
   "pygments_lexer": "ipython2",
   "version": "2.7.13"
  }
 },
 "nbformat": 4,
 "nbformat_minor": 1
}
