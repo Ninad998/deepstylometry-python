{
 "cells": [
  {
   "cell_type": "code",
   "execution_count": null,
   "metadata": {
    "collapsed": false
   },
   "outputs": [],
   "source": [
    "authorList = [23, 59, 88] \n",
    "doc_id = 227"
   ]
  },
  {
   "cell_type": "code",
   "execution_count": null,
   "metadata": {
    "collapsed": false,
    "scrolled": true
   },
   "outputs": [
    {
     "name": "stdout",
     "output_type": "stream",
     "text": [
      "Iterations:   20      Dropout:  0.0      Samples:   50      Dimensions:  100\n"
     ]
    },
    {
     "name": "stderr",
     "output_type": "stream",
     "text": [
      "Using Theano backend.\n",
      "Using gpu device 0: GeForce GTX 950 (CNMeM is disabled, cuDNN 5005)\n"
     ]
    },
    {
     "name": "stdout",
     "output_type": "stream",
     "text": [
      "Level = Word\n",
      "File used: glove.6B.100d.txt\n",
      "Found 400000 word vectors.\n",
      "Execution completed\n",
      "Read completed\n",
      "Number of rows: 156\n"
     ]
    }
   ],
   "source": [
    "parameters = {\n",
    "    'dropout': [0.0, 0.1, 0.2, 0.3, 0.4, 0.5],\n",
    "    'samples': [50, 100, 150, 200, 250, 300, 400, 600, 1000, 1500],\n",
    "    #'dimensions': [50, 100, 200], # 300],\n",
    "    'iterations': [20, 40, 60, 80, 100, 120, 140, 160, 180, 200],\n",
    "}\n",
    "# resultWord = {\n",
    "#     'dropout': [0, 0, 0, 0, 0, 0],\n",
    "#     'samples': [0, 0, 0, 0, 0, 0],\n",
    "#     'dimensions': [0, 0, 0, 0],\n",
    "#     'iterations': [0, 0, 0, 0, 0, 0, 0, 0, 0, 0],\n",
    "# }\n",
    "resultWord = {\n",
    "    'Parameters': 'Accuracy'\n",
    "}\n",
    "level = 'word'\n",
    "droplist = parameters['dropout']\n",
    "for dropout in droplist:\n",
    "    samplelist = parameters['samples']\n",
    "    for samples in samplelist:\n",
    "        iterlist = parameters['iterations']\n",
    "        for iterations in iterlist:\n",
    "            testpara = (('Iterations: %4s      Dropout: %4s      Samples: %4s      Dimensions: %4s') % (iterations,\n",
    "                                                                                                        dropout,\n",
    "                                                                                                        samples,\n",
    "                                                                                                        100))\n",
    "            print(\"%s\" % (str(testpara)))\n",
    "            import StyloNeural as Stylo\n",
    "            (labels_index, predYList, predY, history) = Stylo.getResults(authorList = authorList, \n",
    "                                                                             doc_id = doc_id, \n",
    "                                                                             level = level, \n",
    "                                                                             glove = '../../glove/',\n",
    "                                                                             nb_epoch = iterations,\n",
    "                                                                             samples = samples, \n",
    "                                                                             dimensions = 100,\n",
    "                                                                             dropout = dropout)\n",
    "                \n",
    "            print(\"%s \\nPred: %5s\" % (str(testpara), str(predY[0])))\n",
    "            resultWord[testpara] = predY[0]"
   ]
  },
  {
   "cell_type": "code",
   "execution_count": null,
   "metadata": {
    "collapsed": false
   },
   "outputs": [],
   "source": [
    "print resultWord"
   ]
  },
  {
   "cell_type": "code",
   "execution_count": null,
   "metadata": {
    "collapsed": true
   },
   "outputs": [],
   "source": [
    "resultWord.pop('Parameters')"
   ]
  },
  {
   "cell_type": "code",
   "execution_count": null,
   "metadata": {
    "collapsed": false
   },
   "outputs": [],
   "source": [
    "predmaxkey = max(resultWord, key = resultWord.get)\n",
    "predmaxvalue = resultWord[predmaxkey]\n",
    "print predmaxkey\n",
    "print predmaxvalue"
   ]
  },
  {
   "cell_type": "code",
   "execution_count": null,
   "metadata": {
    "collapsed": true
   },
   "outputs": [],
   "source": [
    "# Iterations:   20      Dropout:  0.2      Samples: 1500      Dimensions:  100"
   ]
  },
  {
   "cell_type": "code",
   "execution_count": null,
   "metadata": {
    "collapsed": false
   },
   "outputs": [],
   "source": [
    "# import matplotlib.pyplot as plt\n",
    "# # summarize history for accuracy\n",
    "# plt.plot(history.history['acc'])\n",
    "# plt.plot(history.history['val_acc'])\n",
    "# plt.title('model accuracy')\n",
    "# plt.ylabel('accuracy')\n",
    "# plt.xlabel('epoch')\n",
    "# plt.legend(['train', 'test'], loc='upper left')\n",
    "# plt.show()"
   ]
  },
  {
   "cell_type": "code",
   "execution_count": null,
   "metadata": {
    "collapsed": false
   },
   "outputs": [],
   "source": [
    "# # summarize history for loss\n",
    "# plt.plot(history.history['loss'])\n",
    "# plt.plot(history.history['val_loss'])\n",
    "# plt.title('model loss')\n",
    "# plt.ylabel('loss')\n",
    "# plt.xlabel('epoch')\n",
    "# plt.legend(['train', 'test'], loc='upper left')\n",
    "# plt.show()"
   ]
  },
  {
   "cell_type": "code",
   "execution_count": null,
   "metadata": {
    "collapsed": true
   },
   "outputs": [],
   "source": []
  }
 ],
 "metadata": {
  "anaconda-cloud": {},
  "kernelspec": {
   "display_name": "Python [default]",
   "language": "python",
   "name": "python2"
  },
  "language_info": {
   "codemirror_mode": {
    "name": "ipython",
    "version": 2
   },
   "file_extension": ".py",
   "mimetype": "text/x-python",
   "name": "python",
   "nbconvert_exporter": "python",
   "pygments_lexer": "ipython2",
   "version": "2.7.13"
  }
 },
 "nbformat": 4,
 "nbformat_minor": 1
}
