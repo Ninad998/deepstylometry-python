{
 "cells": [
  {
   "cell_type": "code",
   "execution_count": 1,
   "metadata": {
    "collapsed": false
   },
   "outputs": [
    {
     "name": "stdout",
     "output_type": "stream",
     "text": [
      "Error FATAL:  password authentication failed for user \"stylometry\"\n",
      "\n"
     ]
    },
    {
     "ename": "SystemExit",
     "evalue": "1",
     "output_type": "error",
     "traceback": [
      "An exception has occurred, use %tb to see the full traceback.\n",
      "\u001b[0;31mSystemExit\u001b[0m\u001b[0;31m:\u001b[0m 1\n"
     ]
    }
   ],
   "source": [
    "\n",
    "import psycopg2\n",
    "import pandas as pd\n",
    "import sys\n",
    "from sshtunnel import SSHTunnelForwarder\n",
    "PORT=5432\n",
    "\n",
    "databaseConnectionServer = 'srn02.cs.cityu.edu.hk'\n",
    "documentTable = 'document'\n",
    "\n",
    "with SSHTunnelForwarder((databaseConnectionServer, 22),\n",
    "                        ssh_username='stylometry',\n",
    "                        ssh_password='stylometry',\n",
    "                        remote_bind_address=('localhost', 5432),\n",
    "                        local_bind_address=('localhost', 5400)):\n",
    "    df = pd.DataFrame()\n",
    "    conn = None\n",
    "    output = []\n",
    "    i = 1\n",
    "    # nltk.download('punkt')\n",
    "    try:\n",
    "        conn = psycopg2.connect(user=\"stylometry\", password=\"stylometry\",\n",
    "                                database=\"stylometry_v2\", host=\"localhost\", port=PORT)\n",
    "        \n",
    "        cur = conn.cursor()\n",
    "        \n",
    "        query = \"SELECT doc_id, doc_title, year_of_pub FROM \" + str(documentTable) + \";\"\n",
    "        \n",
    "        cur.execute(query)\n",
    "        \n",
    "        print(\"Execution completed\")\n",
    "        \n",
    "        rows = cur.fetchall()\n",
    "        \n",
    "        print(\"Read completed\")\n",
    "        \n",
    "        print(\"Number of rows: %s\" % (len(rows)))\n",
    "        \n",
    "        print(type(rows))\n",
    "        \n",
    "    except psycopg2.Error as e:\n",
    "        if conn:\n",
    "            conn.rollback()\n",
    "        print('Error %s' % e)\n",
    "        sys.exit(1)\n",
    "\n",
    "    finally:\n",
    "        if conn is not None:\n",
    "            conn.close()"
   ]
  },
  {
   "cell_type": "code",
   "execution_count": null,
   "metadata": {
    "collapsed": true
   },
   "outputs": [],
   "source": [
    "        df = pd.DataFrame(output, columns=[\"doc_id\" , \" doc_title\" , \" year_of_pub\"])\n",
    "        print(df.dtypes)\n",
    "        print(\"Data Frame created: Shape: %s\" % (str(df.shape)))\n",
    "\n",
    "    "
   ]
  }
 ],
 "metadata": {
  "kernelspec": {
   "display_name": "Python [default]",
   "language": "python",
   "name": "python2"
  },
  "language_info": {
   "codemirror_mode": {
    "name": "ipython",
    "version": 2
   },
   "file_extension": ".py",
   "mimetype": "text/x-python",
   "name": "python",
   "nbconvert_exporter": "python",
   "pygments_lexer": "ipython2",
   "version": "2.7.13"
  }
 },
 "nbformat": 4,
 "nbformat_minor": 2
}
