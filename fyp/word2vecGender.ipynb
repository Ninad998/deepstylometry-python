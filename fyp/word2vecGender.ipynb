{
 "cells": [
  {
   "cell_type": "code",
   "execution_count": 1,
   "metadata": {
    "collapsed": false
   },
   "outputs": [
    {
     "name": "stderr",
     "output_type": "stream",
     "text": [
      "Using TensorFlow backend.\n"
     ]
    }
   ],
   "source": [
    "\n",
    "# coding: utf-8\n",
    "from __future__ import print_function\n",
    "import os\n",
    "import numpy as np\n",
    "np.random.seed(1337)\n",
    "\n",
    "import pandas as pd\n",
    "import theano\n",
    "from keras.preprocessing.text import Tokenizer\n",
    "from keras.preprocessing.sequence import pad_sequences\n",
    "from keras.utils.np_utils import to_categorical\n",
    "from keras.layers import Dense, Flatten\n",
    "from keras.layers import Convolution1D, MaxPooling1D, Embedding, LSTM\n",
    "from keras.models import Model\n",
    "from keras.layers import Input, Dropout\n",
    "from keras.optimizers import SGD, Adadelta\n",
    "from keras.models import Sequential\n",
    "import sys\n",
    "\n",
    "databaseConnectionServer = 'srn02.cs.cityu.edu.hk'\n",
    "documentTable = 'document'\n",
    "\n",
    "BASE_DIR = '../../'\n",
    "GLOVE_DIR = BASE_DIR + 'glove/'\n",
    "\n",
    "MAX_SEQUENCE_LENGTH = 1000\n",
    "MAX_NB_WORDS = 20000\n",
    "EMBEDDING_DIM = 100\n",
    "VALIDATION_SPLIT = 0.3\n",
    "CONVOLUTION_FEATURE = 256\n",
    "BORDER_MODE = 'valid'\n",
    "DENSE_FEATURE = 1024\n",
    "DROP_OUT = 0.3\n",
    "LEARNING_RATE=0.0001\n",
    "MOMENTUM=0.9\n",
    "EPOCH=25\n",
    "BATCH_SIZE=128\n",
    "embed = 100\n",
    "embedfile = 'glove.6B.50d.txt'\n",
    "authorList = [21,63,27,88] \n",
    "doc_id = 544\n",
    "chunk_size = 1000\n",
    "nb_epoch = 30\n",
    "EPOCH = nb_epoch"
   ]
  },
  {
   "cell_type": "code",
   "execution_count": null,
   "metadata": {
    "collapsed": false
   },
   "outputs": [
    {
     "name": "stdout",
     "output_type": "stream",
     "text": [
      "Indexing word vectors.\n",
      "Found 400000 word vectors.\n",
      "Processing text dataset\n"
     ]
    }
   ],
   "source": [
    "# first, build index mapping words in the embeddings set\n",
    "# to their embedding vector\n",
    "\n",
    "print('Indexing word vectors.')\n",
    "\n",
    "embeddings_index = {}\n",
    "f = open(os.path.join(GLOVE_DIR, 'glove.6B.100d.txt'))\n",
    "for line in f:\n",
    "    values = line.split()\n",
    "    word = values[0]\n",
    "    coefs = np.asarray(values[1:], dtype='float32')\n",
    "    embeddings_index[word] = coefs\n",
    "f.close()\n",
    "\n",
    "print('Found %s word vectors.' % len(embeddings_index))\n",
    "\n",
    "# second, prepare text samples and their labels\n",
    "print('Processing text dataset')"
   ]
  },
  {
   "cell_type": "code",
   "execution_count": null,
   "metadata": {
    "collapsed": false
   },
   "outputs": [
    {
     "name": "stdout",
     "output_type": "stream",
     "text": [
      "Execution completed\n",
      "Read completed\n",
      "Number of rows: 14\n",
      "Execution completed\n",
      "Read completed\n",
      "Number of rows: 14\n",
      "Execution completed\n",
      "Read completed\n",
      "Number of rows: 2385\n",
      "{1: 'M', 2: 'M', 3: 'M', 4: 'M', 5: 'M', 6: 'M', 7: 'M', 8: 'M', 9: 'M', 10: 'M', 11: 'M', 12: 'M', 13: 'M', 14: 'M', 15: 'M', 16: 'M', 17: 'M', 18: 'M', 19: 'M', 20: 'M', 21: 'F', 22: 'M', 23: 'M', 24: 'F', 25: 'M', 26: 'M', 27: 'M', 28: 'M', 29: 'M', 30: 'M', 31: 'M', 32: 'M', 33: 'M', 34: 'M', 35: 'M', 36: 'F', 37: 'M', 38: 'M', 39: 'M', 40: 'F', 41: 'M', 42: 'M', 43: 'M', 44: 'M', 45: 'M', 46: 'M', 47: 'F', 48: 'M', 49: 'F', 50: 'M', 51: 'M', 52: 'M', 53: 'M', 54: 'M', 55: 'M', 56: 'M', 57: 'M', 58: 'M', 59: 'M', 60: 'M', 61: 'M', 62: 'M', 63: 'M', 64: 'M', 65: 'M', 66: 'M', 67: 'M', 68: 'M', 69: 'M', 70: 'M', 71: 'M', 72: 'M', 73: 'F', 74: 'M', 75: 'M', 76: 'F', 77: 'M', 78: 'F', 79: 'M', 80: 'M', 81: 'M', 82: 'F', 83: 'M', 84: 'M', 85: 'M', 86: 'M', 87: 'F', 88: 'M', 89: 'M', 90: 'M', 91: 'M', 92: 'M', 93: 'M', 94: 'M', 95: 'M', 96: 'M', 97: 'M', 98: 'M', 99: 'M', 100: 'M', 101: 'F', 102: 'M', 103: 'M', 104: 'M', 105: 'M', 106: 'M', 107: 'M', 108: 'M', 109: 'M', 110: 'M', 111: 'M', 112: 'M', 113: 'M', 114: 'M', 115: 'M', 116: 'M', 117: 'M', 118: 'M', 119: 'M', 120: 'M', 121: 'M', 122: 'M', 123: 'M', 124: 'M', 125: 'M', 126: 'M', 127: 'F', 128: 'M', 129: 'M', 130: 'M', 131: 'M', 132: 'M', 133: 'M', 134: 'M', 135: 'M', 136: 'F'}\n"
     ]
    }
   ],
   "source": [
    "texts = []  # list of text samples\n",
    "labels_index = {}  # dictionary mapping label name to numeric id\n",
    "labels = []  # list of label ids\n",
    "import DatabaseQuery\n",
    "# textToUse = pd.read_csv(\"suffle_4_6000.csv\", names=[\"author_id\", \"doc_content\"], dtype={'author_id': int})\n",
    "from sshtunnel import SSHTunnelForwarder\n",
    "PORT=5432\n",
    "with SSHTunnelForwarder(('srn02.cs.cityu.edu.hk', 22),\n",
    "                        ssh_username='stylometry',\n",
    "                        ssh_password='stylometry',\n",
    "                        remote_bind_address=('localhost', 5432),\n",
    "                        local_bind_address=('localhost', 5400)):\n",
    "    textToUse = DatabaseQuery.getWordGenderData(5400, doc_id, documentTable = documentTable, chunk_size = chunk_size)"
   ]
  },
  {
   "cell_type": "code",
   "execution_count": null,
   "metadata": {
    "collapsed": true
   },
   "outputs": [],
   "source": [
    "labels = []\n",
    "texts = []\n",
    "size = []\n",
    "genderList = textToUse.gender.unique()"
   ]
  },
  {
   "cell_type": "code",
   "execution_count": null,
   "metadata": {
    "collapsed": true
   },
   "outputs": [],
   "source": [
    "genderList"
   ]
  },
  {
   "cell_type": "code",
   "execution_count": null,
   "metadata": {
    "collapsed": false
   },
   "outputs": [],
   "source": [
    "for auth in authorList:\n",
    "    current = textToUse.loc[textToUse['author_id'] == auth]\n",
    "    size.append(current.shape[0])\n",
    "    print(\"Author: %5s  Size: %5s\" % (auth, max(size)))\n",
    "print(\"Min: %s\" % (min(size)))\n",
    "print(\"Max: %s\" % (max(size)))\n",
    "\n",
    "authorList = authorList.tolist()"
   ]
  },
  {
   "cell_type": "code",
   "execution_count": null,
   "metadata": {
    "collapsed": false,
    "scrolled": true
   },
   "outputs": [],
   "source": [
    "labels = []\n",
    "texts = []\n",
    "maxRows = min(size)\n",
    "for auth in authorList:\n",
    "    current = textToUse.loc[textToUse['author_id'] == auth]\n",
    "    current = current.sample(n = maxRows)\n",
    "    textlist = current.doc_content.tolist()\n",
    "    texts = texts + textlist\n",
    "    labels = labels + [authorList.index(author_id) for author_id in current.author_id.tolist()]\n",
    "labels_index = {}\n",
    "labels_index[0] = 0\n",
    "for i, auth in enumerate(authorList):\n",
    "    labels_index[i] = auth\n",
    "\n",
    "del textToUse\n",
    "\n",
    "print('Found %s texts.' % len(texts))\n",
    "print('Found %s labels.' % len(labels))"
   ]
  },
  {
   "cell_type": "code",
   "execution_count": null,
   "metadata": {
    "collapsed": true
   },
   "outputs": [],
   "source": [
    "# finally, vectorize the text samples into a 2D integer tensor\n",
    "tokenizer = Tokenizer(nb_words=MAX_NB_WORDS)\n",
    "tokenizer.fit_on_texts(texts)\n",
    "sequences = tokenizer.texts_to_sequences(texts)"
   ]
  },
  {
   "cell_type": "code",
   "execution_count": null,
   "metadata": {
    "collapsed": false
   },
   "outputs": [],
   "source": [
    "word_index = tokenizer.word_index\n",
    "print('Found %s unique tokens.' % len(word_index))\n",
    "\n",
    "data = pad_sequences(sequences, maxlen=MAX_SEQUENCE_LENGTH)\n",
    "\n",
    "labels = to_categorical(np.asarray(labels))\n",
    "print('Shape of data tensor:', data.shape)\n",
    "print('Shape of label tensor:', labels.shape)\n",
    "\n",
    "# split the data into a training set and a validation set\n",
    "from sklearn.model_selection import train_test_split\n",
    "x_train, x_val, y_train, y_val = train_test_split(data, labels, test_size=VALIDATION_SPLIT)\n"
   ]
  },
  {
   "cell_type": "code",
   "execution_count": null,
   "metadata": {
    "collapsed": false
   },
   "outputs": [],
   "source": [
    "print(y_train[4])\n",
    "print(len(x_train[4]))\n",
    "print(type(x_train[4]))"
   ]
  },
  {
   "cell_type": "code",
   "execution_count": null,
   "metadata": {
    "collapsed": false
   },
   "outputs": [],
   "source": [
    "print('Preparing embedding matrix.')\n",
    "\n",
    "# prepare embedding matrix\n",
    "nb_words = min(MAX_NB_WORDS, len(word_index))\n",
    "embedding_matrix = np.zeros((nb_words + 1, EMBEDDING_DIM))\n",
    "for word, i in word_index.items():\n",
    "    if i > MAX_NB_WORDS:\n",
    "        continue\n",
    "    embedding_vector = embeddings_index.get(word)\n",
    "    if embedding_vector is not None:\n",
    "        # words not found in embedding index will be all-zeros.\n",
    "        embedding_matrix[i] = embedding_vector\n",
    "\n",
    "print('Training model.')"
   ]
  },
  {
   "cell_type": "code",
   "execution_count": null,
   "metadata": {
    "collapsed": false
   },
   "outputs": [],
   "source": [
    "print(y_train[4])\n",
    "print(len(x_train[4]))"
   ]
  },
  {
   "cell_type": "code",
   "execution_count": null,
   "metadata": {
    "collapsed": false
   },
   "outputs": [],
   "source": [
    "print(nb_words)\n",
    "print(MAX_NB_WORDS)\n",
    "print(len(word_index))"
   ]
  },
  {
   "cell_type": "code",
   "execution_count": null,
   "metadata": {
    "collapsed": false
   },
   "outputs": [],
   "source": [
    "\n",
    "model = Sequential()\n",
    "\n",
    "model.add(Embedding(                          # Layer 0, Start\n",
    "    input_dim=nb_words + 1,                   # Size to dictionary, has to be input + 1\n",
    "    output_dim=EMBEDDING_DIM,                 # Dimensions to generate\n",
    "    weights=[embedding_matrix],               # Initialize word weights\n",
    "    input_length=MAX_SEQUENCE_LENGTH))        # Define length to input sequences in the first layer\n",
    "\n",
    "model.add(Convolution1D(                      # Layer 1,   Features: 256, Kernel Size: 7\n",
    "    nb_filter=CONVOLUTION_FEATURE,            # Number of kernels or number of filters to generate\n",
    "    filter_length=7,                          # Size of kernels\n",
    "    border_mode=BORDER_MODE,                  # Border = 'valid', cause kernel to reduce dimensions\n",
    "    activation='relu'))                       # Activation function to use\n",
    "\n",
    "model.add(MaxPooling1D(                       # Layer 1a,  Max Pooling: 3\n",
    "    pool_length=3))                           # Size of kernels\n",
    "\n",
    "model.add(Convolution1D(                      # Layer 2,   Features: 256, Kernel Size: 7\n",
    "    nb_filter=CONVOLUTION_FEATURE,            # Number of kernels or number of filters to generate\n",
    "    filter_length=7,                          # Size of kernels\n",
    "    border_mode=BORDER_MODE,                  # Border = 'valid', cause kernel to reduce dimensions\n",
    "    activation='relu'))                       # Activation function to use\n",
    "\n",
    "model.add(MaxPooling1D(                       # Layer 2a,  Max Pooling: 3\n",
    "    pool_length=3))                           # Size of kernels\n",
    "\n",
    "model.add(Convolution1D(                      # Layer 3,   Features: 256, Kernel Size: 3\n",
    "    nb_filter=CONVOLUTION_FEATURE,            # Number of kernels or number of filters to generate\n",
    "    filter_length=3,                          # Size of kernels\n",
    "    border_mode=BORDER_MODE,                  # Border = 'valid', cause kernel to reduce dimensions\n",
    "    activation='relu'))                       # Activation function to use\n",
    "\n",
    "model.add(Convolution1D(                      # Layer 4,   Features: 256, Kernel Size: 3\n",
    "    nb_filter=CONVOLUTION_FEATURE,            # Number of kernels or number of filters to generate\n",
    "    filter_length=3,                          # Size of kernels\n",
    "    border_mode=BORDER_MODE,                  # Border = 'valid', cause kernel to reduce dimensions\n",
    "    activation='relu'))                       # Activation function to use\n",
    "\n",
    "model.add(Convolution1D(                      # Layer 5,   Features: 256, Kernel Size: 3\n",
    "    nb_filter=CONVOLUTION_FEATURE,            # Number of kernels or number of filters to generate\n",
    "    filter_length=3,                          # Size of kernels\n",
    "    border_mode=BORDER_MODE,                  # Border = 'valid', cause kernel to reduce dimensions\n",
    "    activation='relu'))                       # Activation function to use\n",
    "\n",
    "model.add(Convolution1D(                      # Layer 6,   Features: 256, Kernel Size: 3\n",
    "    nb_filter=CONVOLUTION_FEATURE,            # Number of kernels or number of filters to generate\n",
    "    filter_length=5,                          # Size of kernels\n",
    "    border_mode=BORDER_MODE,                  # Border = 'valid', cause kernel to reduce dimensions\n",
    "    activation='relu'))                       # Activation function to use\n",
    "\n",
    "model.add(MaxPooling1D(                       # Layer 6a,  Max Pooling: 3\n",
    "    pool_length=3))                           # Size of kernels\n",
    "\n",
    "model.add(Flatten())                          # Layer 7\n",
    "\n",
    "model.add(Dense(                              # Layer 7a,  Output Size: 1024\n",
    "    output_dim=DENSE_FEATURE,                 # Output dimension\n",
    "    activation='relu'))                       # Activation function to use\n",
    "\n",
    "model.add(Dropout(DROP_OUT))\n",
    "\n",
    "model.add(Dense(                              # Layer 8,   Output Size: 1024\n",
    "    output_dim=DENSE_FEATURE,                 # Output dimension\n",
    "    activation='relu'))                       # Activation function to use\n",
    "\n",
    "model.add(Dropout(DROP_OUT))\n",
    "\n",
    "model.add(Dense(                              # Layer 9,  Output Size: Size Unique Labels, Final\n",
    "    output_dim=len(labels_index),             # Output dimension\n",
    "    activation='softmax'))                    # Activation function to use\n",
    "\n",
    "# model = Model(start, end)\n",
    "\n",
    "sgd = SGD(lr=LEARNING_RATE, momentum=MOMENTUM, nesterov=True)\n",
    "\n",
    "adadelta = Adadelta(lr=1.0, rho=0.95, epsilon=1e-08)\n",
    "\n",
    "model.compile(loss='categorical_crossentropy', optimizer=sgd,\n",
    "              metrics=['accuracy'])\n",
    "\n",
    "print(\"Done compiling.\")"
   ]
  },
  {
   "cell_type": "code",
   "execution_count": null,
   "metadata": {
    "collapsed": false
   },
   "outputs": [],
   "source": [
    "model.fit(x_train, y_train, validation_data=(x_val, y_val),\n",
    "          nb_epoch=EPOCH, batch_size=BATCH_SIZE)\n"
   ]
  },
  {
   "cell_type": "code",
   "execution_count": null,
   "metadata": {
    "collapsed": false
   },
   "outputs": [],
   "source": [
    "texts = []  # list of text samples\n",
    "labels = []  # list of label ids\n",
    "import DatabaseQuery\n",
    "# textToUse = pd.read_csv(\"suffle_4_6000.csv\", names=[\"author_id\", \"doc_content\"], dtype={'author_id': int})\n",
    "from sshtunnel import SSHTunnelForwarder\n",
    "PORT=5432\n",
    "with SSHTunnelForwarder(('srn02.cs.cityu.edu.hk', 22),\n",
    "                        ssh_username='stylometry',\n",
    "                        ssh_password='stylometry',\n",
    "                        remote_bind_address=('localhost', 5432),\n",
    "                        local_bind_address=('localhost', 5400)):\n",
    "    textToUse = DatabaseQuery.getWordDocData(5400, doc_id, chunk_size = chunk_size)\n",
    "labels = []\n",
    "texts = []\n",
    "for index, row in textToUse.iterrows():\n",
    "    labels.append(authorList.index(row.author_id))\n",
    "    texts.append(row.doc_content)\n",
    "        \n",
    "print('Found %s texts.' % len(texts))\n",
    "\n",
    "del textToUse\n"
   ]
  },
  {
   "cell_type": "code",
   "execution_count": null,
   "metadata": {
    "collapsed": false
   },
   "outputs": [],
   "source": [
    "# finally, vectorize the text samples into a 2D integer tensor\n",
    "sequences = tokenizer.texts_to_sequences(texts)\n",
    "\n",
    "print('Found %s unique tokens.' % len(word_index))\n",
    "\n",
    "X = pad_sequences(sequences, maxlen = chunk_size)\n",
    "\n",
    "print('Shape of data tensor:', X.shape)\n",
    "\n",
    "testX = X[:]\n"
   ]
  },
  {
   "cell_type": "code",
   "execution_count": null,
   "metadata": {
    "collapsed": true
   },
   "outputs": [],
   "source": [
    "# Function to take input of data and return prediction model\n",
    "predY = np.array(model.predict(testX, batch_size=128))\n",
    "def entroPred(predY):\n",
    "    predYList = predY[:]\n",
    "    entro = []\n",
    "    import math\n",
    "    for row in predY:\n",
    "        entroval = 0\n",
    "        for i in row:\n",
    "            entroval += (i * (math.log(i , 2)))\n",
    "        entroval = -1 * entroval\n",
    "        entro.append(entroval)\n",
    "    yx = zip(entro, predY)\n",
    "    yx = sorted(yx, key = lambda t: t[0])\n",
    "    newPredY = [x for y, x in yx]\n",
    "    predYEntroList = newPredY[:int(len(newPredY)*0.9)]\n",
    "    predY = np.mean(predYEntroList, axis=0)\n",
    "    return predY"
   ]
  },
  {
   "cell_type": "code",
   "execution_count": null,
   "metadata": {
    "collapsed": false
   },
   "outputs": [],
   "source": [
    "print(labels_index)"
   ]
  },
  {
   "cell_type": "code",
   "execution_count": null,
   "metadata": {
    "collapsed": false
   },
   "outputs": [],
   "source": [
    "print(entroPred(predY[:]))"
   ]
  },
  {
   "cell_type": "code",
   "execution_count": null,
   "metadata": {
    "collapsed": false
   },
   "outputs": [],
   "source": [
    "print(predY)"
   ]
  },
  {
   "cell_type": "code",
   "execution_count": null,
   "metadata": {
    "collapsed": true
   },
   "outputs": [],
   "source": []
  }
 ],
 "metadata": {
  "anaconda-cloud": {},
  "kernelspec": {
   "display_name": "Python 2",
   "language": "python",
   "name": "python2"
  },
  "language_info": {
   "codemirror_mode": {
    "name": "ipython",
    "version": 2
   },
   "file_extension": ".py",
   "mimetype": "text/x-python",
   "name": "python",
   "nbconvert_exporter": "python",
   "pygments_lexer": "ipython2",
   "version": "2.7.13"
  }
 },
 "nbformat": 4,
 "nbformat_minor": 1
}
