{
 "cells": [
  {
   "cell_type": "code",
   "execution_count": 1,
   "metadata": {
    "collapsed": false,
    "deletable": true,
    "editable": true
   },
   "outputs": [
    {
     "name": "stdout",
     "output_type": "stream",
     "text": [
      "(50, 3)\n",
      "doc_id         int64\n",
      "author_id      int64\n",
      "authorList    object\n",
      "dtype: object\n"
     ]
    }
   ],
   "source": [
    "import pandas as pd\n",
    "df = pd.read_csv('research candidate sets.csv')\n",
    "print(df.shape)\n",
    "print(df.dtypes)\n",
    "preds = []"
   ]
  },
  {
   "cell_type": "code",
   "execution_count": 2,
   "metadata": {
    "collapsed": false,
    "deletable": true,
    "editable": true,
    "scrolled": true
   },
   "outputs": [],
   "source": [
    "authorList = [6951, 7961, 1011, 7939, 308, 10851, 1860, 6927, 6363, 2089,\n",
    "              6773, 1848, 9152, 10302, 5279, 8835, 6464, 5271, 1661, 4188 ]\n",
    "\n",
    "doc_id = 1\n",
    "\n",
    "parameters = {\n",
    "    'candidate': [2, 3, 4, 5, 6, 7, 8, 9, 10,\n",
    "                  11, 12, 13, 14, 15, 16, 17, 18, 19, 20],\n",
    "    'samples': [320, 1600, 3200],\n",
    "    'dropout': [0.0, 0.1, 0.2, 0.3, 0.4, 0.5],\n",
    "    'dimensions': [50, 100, 200],\n",
    "    'iterations': [10, 20, 40, 80, 120, 240],\n",
    "    'cv': [320, 1600]#, 3200],\n",
    "}\n",
    "\n",
    "# print('doc_id: %3s actual author: %4s author_id: %s' % (str(doc_id), str(row.author_id), str(authorList)))\n",
    "\n",
    "level = 'word'\n",
    "\n",
    "for idxp, paralist in parameters.iteritems():\n",
    "    if idxp == 'candidate':\n",
    "        for idxl, val in enumerate(paralist):\n",
    "            \n",
    "            doc_id = 1\n",
    "\n",
    "            candidate = val\n",
    "    \n",
    "            algo = \"tfidf_multi_nb\"\n",
    "\n",
    "            test = algo # change before run\n",
    "\n",
    "            level = str(algo) + \"-\" + str(idxp)\n",
    "\n",
    "            iterations = 30\n",
    "\n",
    "            dropout = 0.5\n",
    "\n",
    "            samples = 3200\n",
    "\n",
    "            dimensions = 200\n",
    "\n",
    "            printstate = ((\"doc_id = %s, candidate = %s, \") % (str(doc_id), str(candidate)))\n",
    "            printstate += ((\"samples = %s, \") % (str(samples)))\n",
    "            printstate += ((\"test = %s\") % (str(test)))\n",
    "\n",
    "            import UpdateDB as db\n",
    "            case = db.checkML(doc_id = doc_id, candidate = candidate, samples = samples,\n",
    "                              test = test)\n",
    "\n",
    "            if case == False:\n",
    "\n",
    "                print(\"Running: %12s\" % (str(printstate)))\n",
    "\n",
    "                import StyloML as Stylo\n",
    "                (labels_index, train_acc, val_acc, samples) = Stylo.getResults(\n",
    "                    algo, \n",
    "                    doc_id = doc_id, authorList = authorList[:candidate], \n",
    "                    samples = samples)\n",
    "                \n",
    "                import UpdateDB as db\n",
    "                case = db.updateresultML(doc_id = doc_id, candidate = candidate, samples = samples,\n",
    "                                         train_acc = train_acc, val_acc = val_acc,\n",
    "                                         test = test)\n",
    "\n",
    "                del Stylo\n",
    "\n",
    "                import time\n",
    "                time.sleep(10)\n",
    "\n",
    "                from IPython.display import clear_output\n",
    "\n",
    "                clear_output()\n",
    "\n",
    "            else:\n",
    "                print(\"Skipped: %12s\" % (str(printstate)))"
   ]
  },
  {
   "cell_type": "code",
   "execution_count": 3,
   "metadata": {
    "collapsed": false,
    "deletable": true,
    "editable": true
   },
   "outputs": [],
   "source": [
    "# import matplotlib.pyplot as plt\n",
    "# # summarize history for accuracy\n",
    "# plt.plot(history.history['acc'])\n",
    "# plt.plot(history.history['val_acc'])\n",
    "# plt.title('model accuracy')\n",
    "# plt.ylabel('accuracy')\n",
    "# plt.xlabel('epoch')\n",
    "# plt.legend(['train', 'test'], loc='upper left')\n",
    "# plt.show()"
   ]
  },
  {
   "cell_type": "code",
   "execution_count": 4,
   "metadata": {
    "collapsed": false,
    "deletable": true,
    "editable": true
   },
   "outputs": [],
   "source": [
    "# # summarize history for loss\n",
    "# plt.plot(history.history['loss'])\n",
    "# plt.plot(history.history['val_loss'])\n",
    "# plt.title('model loss')\n",
    "# plt.ylabel('loss')\n",
    "# plt.xlabel('epoch')\n",
    "# plt.legend(['train', 'test'], loc='upper left')\n",
    "# plt.show()"
   ]
  },
  {
   "cell_type": "code",
   "execution_count": 5,
   "metadata": {
    "collapsed": false,
    "deletable": true,
    "editable": true
   },
   "outputs": [
    {
     "name": "stderr",
     "output_type": "stream",
     "text": [
      "No traceback available to show.\n"
     ]
    }
   ],
   "source": [
    "%tb"
   ]
  },
  {
   "cell_type": "code",
   "execution_count": null,
   "metadata": {
    "collapsed": true,
    "deletable": true,
    "editable": true
   },
   "outputs": [],
   "source": [
    ""
   ]
  }
 ],
 "metadata": {
  "anaconda-cloud": {},
  "kernelspec": {
   "display_name": "Python 2",
   "language": "python",
   "name": "python2"
  },
  "language_info": {
   "codemirror_mode": {
    "name": "ipython",
    "version": 2.0
   },
   "file_extension": ".py",
   "mimetype": "text/x-python",
   "name": "python",
   "nbconvert_exporter": "python",
   "pygments_lexer": "ipython2",
   "version": "2.7.13"
  }
 },
 "nbformat": 4,
 "nbformat_minor": 0
}