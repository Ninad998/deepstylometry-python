{
 "cells": [
  {
   "cell_type": "code",
   "execution_count": 1,
   "metadata": {
    "collapsed": false
   },
   "outputs": [
    {
     "name": "stdout",
     "output_type": "stream",
     "text": [
      "(32, 3)\n",
      "doc_id         int64\n",
      "author_id      int64\n",
      "authorList    object\n",
      "dtype: object\n"
     ]
    }
   ],
   "source": [
    "import pandas as pd\n",
    "df = pd.read_csv('queryset_CNN.csv')\n",
    "print(df.shape)\n",
    "print(df.dtypes)"
   ]
  },
  {
   "cell_type": "code",
   "execution_count": 2,
   "metadata": {
    "collapsed": false,
    "scrolled": true
   },
   "outputs": [
    {
     "name": "stdout",
     "output_type": "stream",
     "text": [
      "Skipped: doc_id = 2318\n"
     ]
    }
   ],
   "source": [
    "output = []\n",
    "from sshtunnel import SSHTunnelForwarder\n",
    "for index, row in df.iterrows():\n",
    "    doc_id = row.doc_id\n",
    "    \n",
    "    printstate = ((\"doc_id = %s\") % (str(doc_id)))\n",
    "    \n",
    "    print(\"Current test: %s\" % (str(printstate)))\n",
    "    \n",
    "    with SSHTunnelForwarder(('144.214.121.15', 22),\n",
    "                                ssh_username='ninadt',\n",
    "                                ssh_password='Ninad123',\n",
    "                                remote_bind_address=('localhost', 3306),\n",
    "                                local_bind_address=('localhost', 3300)):\n",
    "        import UpdateDB as db\n",
    "        case = db.checkOldGender(doc_id = doc_id)\n",
    "        \n",
    "    if case == False:\n",
    "\n",
    "        print(\"Running: %12s\" % (str(printstate)))\n",
    "\n",
    "        import StyloGender as Stylo\n",
    "        (predY, testY) = Stylo.getTestResults(doc_id = doc_id, glove = '../../glove/',\n",
    "                                              dimensions = 200, chunk_size = 1000, batch_size = 10)\n",
    "        \n",
    "        loc = testY\n",
    "\n",
    "        test_acc = predY[loc]\n",
    "\n",
    "        test_bin = 0\n",
    "\n",
    "        if(predY.tolist().index(max(predY)) == testY):\n",
    "            test_bin = 1\n",
    "        \n",
    "        ans = 'N'\n",
    "        \n",
    "        if test_bin == 1:\n",
    "            if testY == 0:\n",
    "                ans = 'M'\n",
    "            else:\n",
    "                ans = 'F'\n",
    "        else:\n",
    "            if testY == 1:\n",
    "                ans = 'M'\n",
    "            else:\n",
    "                ans = 'F'\n",
    "        \n",
    "        with SSHTunnelForwarder(('144.214.121.15', 22),\n",
    "                                ssh_username='ninadt',\n",
    "                                ssh_password='Ninad123',\n",
    "                                remote_bind_address=('localhost', 3306),\n",
    "                                local_bind_address=('localhost', 3300)):\n",
    "            import UpdateDB as db\n",
    "            case = db.updateresultOldGender(doc_id = doc_id, test_acc = test_acc, test_bin = test_bin, pred = ans)\n",
    "\n",
    "        output.append([doc_id, test_acc, test_bin])\n",
    "\n",
    "        del Stylo\n",
    "\n",
    "        from keras import backend as K\n",
    "        K.clear_session()\n",
    "\n",
    "        import time\n",
    "        time.sleep(10)\n",
    "\n",
    "        from IPython.display import clear_output\n",
    "        clear_output()\n",
    "\n",
    "else:\n",
    "    print(\"Skipped: %12s\" % (str(printstate)))\n"
   ]
  },
  {
   "cell_type": "code",
   "execution_count": 3,
   "metadata": {
    "collapsed": false
   },
   "outputs": [
    {
     "name": "stderr",
     "output_type": "stream",
     "text": [
      "No traceback available to show.\n"
     ]
    }
   ],
   "source": [
    "%tb"
   ]
  },
  {
   "cell_type": "code",
   "execution_count": 4,
   "metadata": {
    "collapsed": false
   },
   "outputs": [
    {
     "data": {
      "text/plain": [
       "[[85, 0.99840212, 1],\n",
       " [160, 0.93407482, 1],\n",
       " [168, 0.99777055, 1],\n",
       " [213, 0.91292071, 1],\n",
       " [227, 0.88579404, 1],\n",
       " [297, 0.86970788, 1],\n",
       " [479, 0.99874198, 1],\n",
       " [495, 0.99920237, 1],\n",
       " [496, 0.99862057, 1],\n",
       " [544, 0.93009758, 1],\n",
       " [759, 0.9990133, 1],\n",
       " [769, 0.89024079, 1],\n",
       " [970, 0.99837852, 1],\n",
       " [987, 0.49692518, 0],\n",
       " [1007, 0.88704962, 1],\n",
       " [1095, 0.99719137, 1],\n",
       " [1121, 0.99896896, 1],\n",
       " [1223, 0.99920589, 1],\n",
       " [1444, 0.79767454, 1],\n",
       " [1476, 0.99747449, 1],\n",
       " [1527, 0.056265883, 0],\n",
       " [1727, 0.52917093, 1],\n",
       " [1923, 0.72092634, 1],\n",
       " [1938, 0.95425314, 1],\n",
       " [2010, 0.96851999, 1],\n",
       " [2128, 0.9472568, 1],\n",
       " [2171, 0.18687579, 0],\n",
       " [2175, 0.80857158, 1],\n",
       " [2178, 0.98696649, 1],\n",
       " [2183, 0.91411275, 1],\n",
       " [2259, 0.99923635, 1],\n",
       " [2318, 0.54854316, 1]]"
      ]
     },
     "execution_count": 4,
     "metadata": {},
     "output_type": "execute_result"
    }
   ],
   "source": [
    "output"
   ]
  }
 ],
 "metadata": {
  "anaconda-cloud": {},
  "kernelspec": {
   "display_name": "Python 2",
   "language": "python",
   "name": "python2"
  },
  "language_info": {
   "codemirror_mode": {
    "name": "ipython",
    "version": 2
   },
   "file_extension": ".py",
   "mimetype": "text/x-python",
   "name": "python",
   "nbconvert_exporter": "python",
   "pygments_lexer": "ipython2",
   "version": "2.7.13"
  }
 },
 "nbformat": 4,
 "nbformat_minor": 1
}
