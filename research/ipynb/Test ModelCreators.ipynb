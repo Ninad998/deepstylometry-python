{
 "cells": [
  {
   "cell_type": "code",
   "execution_count": 1,
   "metadata": {
    "collapsed": false,
    "deletable": true,
    "editable": true
   },
   "outputs": [
    {
     "name": "stderr",
     "output_type": "stream",
     "text": [
      "Using TensorFlow backend.\n"
     ]
    }
   ],
   "source": [
    "import CNNModelCreatorWord as md\n",
    "\n",
    "dimensions = 50\n",
    "embedfile = 'glove.6B.' + str(dimensions) + 'd.txt'\n",
    "authorList = [11, 18, 80, 88, 64]\n",
    "doc_id = 1\n",
    "chunk_size = 1000\n",
    "nb_epoch = 30\n",
    "glove = '../../../glove/'\n",
    "samples = 3200\n",
    "batch_size = 10"
   ]
  },
  {
   "cell_type": "code",
   "execution_count": 2,
   "metadata": {
    "collapsed": false,
    "deletable": true,
    "editable": true,
    "scrolled": false
   },
   "outputs": [
    {
     "name": "stdout",
     "output_type": "stream",
     "text": [
      "Level = Word\n",
      "File used: glove.6B.50d.txt\n",
      "Found 400000 word vectors.\n"
     ]
    }
   ],
   "source": [
    "embeddings_index = md.readVectorData(embedfile, GLOVE_DIR=glove)\n"
   ]
  },
  {
   "cell_type": "code",
   "execution_count": 3,
   "metadata": {
    "collapsed": false,
    "deletable": true,
    "editable": true
   },
   "outputs": [
    {
     "name": "stdout",
     "output_type": "stream",
     "text": [
      "Execution completed\n",
      "Read completed\n",
      "Number of rows: 1\n",
      "Execution completed\n",
      "Read completed\n",
      "Number of rows: 3\n",
      "Execution completed\n",
      "Read completed\n",
      "Number of rows: 13\n",
      "Execution completed\n",
      "Read completed\n",
      "Number of rows: 1\n",
      "Execution completed\n",
      "Read completed\n",
      "Number of rows: 0\n",
      "author_id       int64\n",
      "doc_content    object\n",
      "dtype: object\n",
      "Data Frame created: Shape: (12812, 2)\n",
      "Author:    11  Size:  3203\n",
      "Author:    18  Size:  3203\n",
      "Author:    80  Size:  3203\n",
      "Author:    88  Size:  3203\n",
      "Min: 3203\n",
      "Max: 3203\n",
      "Authors [11, 18, 80, 88].\n",
      "Found 12800 texts.\n",
      "Found 12800 labels.\n"
     ]
    }
   ],
   "source": [
    "(texts, labels, labels_index, samples) = md.loadAuthData(authorList, doc_id, chunk_size = chunk_size, samples = samples)"
   ]
  },
  {
   "cell_type": "code",
   "execution_count": null,
   "metadata": {
    "collapsed": false,
    "deletable": true,
    "editable": true
   },
   "outputs": [],
   "source": [
    "(trainX, trainY, valX, valY) = md.preProcessTrainVal(texts, labels, chunk_size = chunk_size)"
   ]
  },
  {
   "cell_type": "code",
   "execution_count": null,
   "metadata": {
    "collapsed": false,
    "deletable": true,
    "editable": true
   },
   "outputs": [],
   "source": [
    "embedding_matrix = None\n",
    "\n",
    "embedding_matrix = md.prepareEmbeddingMatrix(embeddings_index, EMBEDDING_DIM = dimensions)\n"
   ]
  },
  {
   "cell_type": "code",
   "execution_count": null,
   "metadata": {
    "collapsed": false,
    "deletable": true,
    "editable": true
   },
   "outputs": [],
   "source": [
    "model = md.compileModel(len(labels_index), embedding_matrix, chunk_size = 1000,\n",
    "                       DROP_OUT = 0.5, EMBEDDING_DIM = dimensions)"
   ]
  },
  {
   "cell_type": "code",
   "execution_count": null,
   "metadata": {
    "collapsed": false,
    "deletable": true,
    "editable": true
   },
   "outputs": [],
   "source": [
    "(model, history, train_acc, val_acc) = md.fitModel(model, trainX, trainY, valX, valY,\n",
    "                                                   nb_epoch = 100, batch_size = batch_size)"
   ]
  },
  {
   "cell_type": "code",
   "execution_count": null,
   "metadata": {
    "collapsed": false,
    "deletable": true,
    "editable": true
   },
   "outputs": [],
   "source": [
    "%tb"
   ]
  },
  {
   "cell_type": "code",
   "execution_count": null,
   "metadata": {
    "collapsed": true,
    "deletable": true,
    "editable": true
   },
   "outputs": [],
   "source": []
  }
 ],
 "metadata": {
  "anaconda-cloud": {},
  "kernelspec": {
   "display_name": "Python 2",
   "language": "python",
   "name": "python2"
  },
  "language_info": {
   "codemirror_mode": {
    "name": "ipython",
    "version": 2
   },
   "file_extension": ".py",
   "mimetype": "text/x-python",
   "name": "python",
   "nbconvert_exporter": "python",
   "pygments_lexer": "ipython2",
   "version": "2.7.13"
  }
 },
 "nbformat": 4,
 "nbformat_minor": 1
}
