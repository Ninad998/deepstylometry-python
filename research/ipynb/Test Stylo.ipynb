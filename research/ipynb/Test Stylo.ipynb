{
 "cells": [
  {
   "cell_type": "code",
   "execution_count": 1,
   "metadata": {
    "collapsed": false
   },
   "outputs": [
    {
     "name": "stdout",
     "output_type": "stream",
     "text": [
      "(6, 3)\n",
      "doc_id         int64\n",
      "author_id      int64\n",
      "authorList    object\n",
      "dtype: object\n"
     ]
    }
   ],
   "source": [
    "import pandas as pd\n",
    "df = pd.read_csv('research candidate sets.csv')\n",
    "print(df.shape)\n",
    "print(df.dtypes)"
   ]
  },
  {
   "cell_type": "code",
   "execution_count": 2,
   "metadata": {
    "collapsed": false,
    "scrolled": true
   },
   "outputs": [],
   "source": [
    "for index, row in df.iterrows():\n",
    "    doc_id = row.doc_id\n",
    "    \n",
    "    author_id = row.author_id\n",
    "    \n",
    "    import ast\n",
    "    authorList = ast.literal_eval(row.authorList)\n",
    "    \n",
    "    candidate = len(authorList)\n",
    "    \n",
    "    test = \"batch10\" # change before run\n",
    "    \n",
    "    level = \"word\"\n",
    "    \n",
    "    iterations = 30\n",
    "    \n",
    "    dropout = 0.4\n",
    "    \n",
    "    samples = 7000\n",
    "    \n",
    "    dimensions = 200\n",
    "    \n",
    "    loc = authorList.index(author_id)\n",
    "    \n",
    "    printstate = ((\"doc_id = %s, candidate = %s, \") % (str(doc_id), str(candidate)))\n",
    "    printstate += ((\"dimensions = %s, samples = %s, \") % (str(dimensions), str(samples)))\n",
    "    printstate += ((\"\\niterations = %s, dropout = %s, test = %s\") % (str(iterations), str(dropout), str(test)))\n",
    "    \n",
    "    print(\"Current test: %s\" % (str(printstate)))\n",
    "    \n",
    "    import UpdateDB as db\n",
    "    case = db.checkCNNDiff(doc_id = doc_id, candidate = candidate, \n",
    "                           dimensions = dimensions, samples = samples, iterations = iterations, \n",
    "                           dropout = dropout, \n",
    "                           test = test)\n",
    "    \n",
    "    if case == False:\n",
    "        \n",
    "        print(\"Running: %12s\" % (str(printstate)))\n",
    "        \n",
    "        import StyloNeural as Stylo\n",
    "        (labels_index, predYList, predY, history, samples) = Stylo.getResults(\n",
    "            doc_id = doc_id, authorList = authorList[:], \n",
    "            level = level, glove = '../../glove/', dimensions = dimensions, \n",
    "            samples = samples, nb_epoch = iterations, dropout = dropout, batch_size = 10 )\n",
    "        \n",
    "        for key, auth in labels_index.iteritems():\n",
    "            if auth == author_id:\n",
    "                loc = key\n",
    "        \n",
    "        ans = predY[loc]\n",
    "        \n",
    "        import UpdateDB as db\n",
    "        case = db.updateresultCNNDiff(doc_id = doc_id, candidate = candidate, \n",
    "                                      dimensions = dimensions, samples = samples, iterations = iterations, \n",
    "                                      dropout = dropout, accuracy = ans, test = test)\n",
    "        \n",
    "        if case:\n",
    "            ans = 0.0\n",
    "\n",
    "            if (predY.tolist().index(max(predY)) == loc):\n",
    "                ans = 1.0\n",
    "                \n",
    "            import UpdateDB as db\n",
    "            case = db.updateresultCNNDiff(doc_id = doc_id, candidate = candidate, \n",
    "                                          dimensions = dimensions, samples = samples, iterations = iterations, \n",
    "                                          dropout = dropout, accuracy = ans, test = str(test + 'binary'))\n",
    "            \n",
    "        else:\n",
    "            print(\"Skipped: %12s\" % (str(printstate)))\n",
    "        \n",
    "        del Stylo\n",
    "        \n",
    "        from keras import backend as K\n",
    "        K.clear_session()\n",
    "        \n",
    "        import time\n",
    "        time.sleep(10)\n",
    "        \n",
    "        from IPython.display import clear_output\n",
    "        clear_output()\n",
    "    \n",
    "    else:\n",
    "        print(\"Skipped: %12s\" % (str(printstate)))\n",
    "                "
   ]
  },
  {
   "cell_type": "code",
   "execution_count": 3,
   "metadata": {
    "collapsed": false
   },
   "outputs": [],
   "source": [
    "# import matplotlib.pyplot as plt\n",
    "# # summarize history for accuracy\n",
    "# plt.plot(history.history['acc'])\n",
    "# plt.plot(history.history['val_acc'])\n",
    "# plt.title('model accuracy')\n",
    "# plt.ylabel('accuracy')\n",
    "# plt.xlabel('epoch')\n",
    "# plt.legend(['train', 'test'], loc='upper left')\n",
    "# plt.show()"
   ]
  },
  {
   "cell_type": "code",
   "execution_count": 4,
   "metadata": {
    "collapsed": false
   },
   "outputs": [],
   "source": [
    "# # summarize history for loss\n",
    "# plt.plot(history.history['loss'])\n",
    "# plt.plot(history.history['val_loss'])\n",
    "# plt.title('model loss')\n",
    "# plt.ylabel('loss')\n",
    "# plt.xlabel('epoch')\n",
    "# plt.legend(['train', 'test'], loc='upper left')\n",
    "# plt.show()"
   ]
  },
  {
   "cell_type": "code",
   "execution_count": 5,
   "metadata": {
    "collapsed": false
   },
   "outputs": [
    {
     "name": "stderr",
     "output_type": "stream",
     "text": [
      "No traceback available to show.\n"
     ]
    }
   ],
   "source": [
    "%tb"
   ]
  },
  {
   "cell_type": "code",
   "execution_count": null,
   "metadata": {
    "collapsed": true
   },
   "outputs": [],
   "source": []
  }
 ],
 "metadata": {
  "anaconda-cloud": {},
  "kernelspec": {
   "display_name": "Python 2",
   "language": "python",
   "name": "python2"
  },
  "language_info": {
   "codemirror_mode": {
    "name": "ipython",
    "version": 2
   },
   "file_extension": ".py",
   "mimetype": "text/x-python",
   "name": "python",
   "nbconvert_exporter": "python",
   "pygments_lexer": "ipython2",
   "version": "2.7.13"
  }
 },
 "nbformat": 4,
 "nbformat_minor": 1
}
