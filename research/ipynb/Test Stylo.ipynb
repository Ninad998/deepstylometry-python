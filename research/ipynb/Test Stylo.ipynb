{
 "cells": [
  {
   "cell_type": "code",
   "execution_count": 1,
   "metadata": {
    "collapsed": false
   },
   "outputs": [
    {
     "name": "stdout",
     "output_type": "stream",
     "text": [
      "(14, 3)\n",
      "doc_id         int64\n",
      "author_id      int64\n",
      "authorList    object\n",
      "dtype: object\n"
     ]
    }
   ],
   "source": [
    "import pandas as pd\n",
    "df = pd.read_csv('research candidate sets.csv')\n",
    "print(df.shape)\n",
    "print(df.dtypes)"
   ]
  },
  {
   "cell_type": "code",
   "execution_count": 2,
   "metadata": {
    "collapsed": false,
    "scrolled": true
   },
   "outputs": [],
   "source": [
    "for index, row in df.iterrows():\n",
    "    doc_id = row.doc_id\n",
    "    \n",
    "    author_id = row.author_id\n",
    "    \n",
    "    import ast\n",
    "    authorList = ast.literal_eval(row.authorList)\n",
    "    \n",
    "    val = len(authorList)\n",
    "    \n",
    "    test = \"trainableoff\" # change before run\n",
    "    \n",
    "    level = \"word\"\n",
    "    \n",
    "    iterations = 30\n",
    "    \n",
    "    dropout = 0.4\n",
    "    \n",
    "    samples = 300\n",
    "    \n",
    "    loc = authorList.index(author_id)\n",
    "    \n",
    "    printstate = ((\"doc_id = %s, candidate = %s, \") % (str(doc_id), str(val)))\n",
    "    printstate += ((\"dimensions = %s, samples = %s, \") % (str(200), str(samples)))\n",
    "    printstate += ((\"\\niterations = %s, dropout = %s, test = %s\") % (str(iterations), str(dropout), str(test)))\n",
    "    \n",
    "    print(\"Current test: %s\" % (str(printstate)))\n",
    "    \n",
    "    import UpdateDB as db\n",
    "    \n",
    "    case = db.checkOldLSTM(doc_id = doc_id, candidate = val, dimensions = 200, samples = 300, \n",
    "                           iterations = iterations, dropout = dropout, test = test)\n",
    "    \n",
    "    if case == False:\n",
    "        \n",
    "        print(\"Running: %12s\" % (str(printstate)))\n",
    "        \n",
    "        import StyloNeural as Stylo\n",
    "        (labels_index, predYList, predY, history, samples) = Stylo.getResults(\n",
    "            doc_id = doc_id, authorList = authorList[:], \n",
    "            level = level, glove = '../../glove/', dimensions = 200, \n",
    "            samples = samples, nb_epoch = iterations, dropout = dropout )\n",
    "                    \n",
    "        import UpdateDB as db\n",
    "        case = db.updateresultLSTM(doc_id = doc_id, candidate = val, dimensions = 200, samples = samples, \n",
    "                                     iterations = iterations, dropout = dropout, accuracy = predY[loc], test = test)\n",
    "        \n",
    "        if case == False:\n",
    "            print(\"Completed: %12s\" % (str(printstate)))\n",
    "            \n",
    "        else:\n",
    "            print(\"Skipped: %12s\" % (str(printstate)))\n",
    "        \n",
    "        from IPython.display import clear_output\n",
    "        clear_output()\n",
    "    \n",
    "    else:\n",
    "        print(\"Skipped: %12s\" % (str(printstate)))\n",
    "                "
   ]
  },
  {
   "cell_type": "code",
   "execution_count": 3,
   "metadata": {
    "collapsed": false
   },
   "outputs": [],
   "source": [
    "# import matplotlib.pyplot as plt\n",
    "# # summarize history for accuracy\n",
    "# plt.plot(history.history['acc'])\n",
    "# plt.plot(history.history['val_acc'])\n",
    "# plt.title('model accuracy')\n",
    "# plt.ylabel('accuracy')\n",
    "# plt.xlabel('epoch')\n",
    "# plt.legend(['train', 'test'], loc='upper left')\n",
    "# plt.show()"
   ]
  },
  {
   "cell_type": "code",
   "execution_count": 4,
   "metadata": {
    "collapsed": false
   },
   "outputs": [],
   "source": [
    "# # summarize history for loss\n",
    "# plt.plot(history.history['loss'])\n",
    "# plt.plot(history.history['val_loss'])\n",
    "# plt.title('model loss')\n",
    "# plt.ylabel('loss')\n",
    "# plt.xlabel('epoch')\n",
    "# plt.legend(['train', 'test'], loc='upper left')\n",
    "# plt.show()"
   ]
  },
  {
   "cell_type": "code",
   "execution_count": 5,
   "metadata": {
    "collapsed": false
   },
   "outputs": [
    {
     "name": "stderr",
     "output_type": "stream",
     "text": [
      "No traceback available to show.\n"
     ]
    }
   ],
   "source": [
    "%tb"
   ]
  },
  {
   "cell_type": "code",
   "execution_count": null,
   "metadata": {
    "collapsed": true
   },
   "outputs": [],
   "source": []
  }
 ],
 "metadata": {
  "anaconda-cloud": {},
  "kernelspec": {
   "display_name": "Python [default]",
   "language": "python",
   "name": "python2"
  },
  "language_info": {
   "codemirror_mode": {
    "name": "ipython",
    "version": 2
   },
   "file_extension": ".py",
   "mimetype": "text/x-python",
   "name": "python",
   "nbconvert_exporter": "python",
   "pygments_lexer": "ipython2",
   "version": "2.7.13"
  }
 },
 "nbformat": 4,
 "nbformat_minor": 1
}
