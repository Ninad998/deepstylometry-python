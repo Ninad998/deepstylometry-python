{
 "cells": [
  {
   "cell_type": "code",
   "execution_count": 1,
   "metadata": {
    "collapsed": false
   },
   "outputs": [],
   "source": [
    "authorList = [4562, 551, 308, 123, 78] \n",
    "doc_id = 1210\n",
    "loc = 1"
   ]
  },
  {
   "cell_type": "code",
   "execution_count": 2,
   "metadata": {
    "collapsed": false,
    "scrolled": true
   },
   "outputs": [],
   "source": [
    "parameters = {\n",
    "    'dropout': [0.0, 0.1, 0.2, 0.3, 0.4, 0.5],\n",
    "    'samples': [50, 100, 150, 200, 250, 300],\n",
    "    'dimensions': [50, 100, 200], # 300],\n",
    "    'iterations': [20, 40, 60, 80, 100, 120, 140, 160, 180, 200],\n",
    "}\n",
    "results = {\n",
    "    'dropout': [0, 0, 0, 0, 0, 0],\n",
    "    'samples': [0, 0, 0, 0, 0, 0],\n",
    "    'dimensions': [0, 0, 0, 0],\n",
    "    'iterations': [0, 0, 0, 0, 0, 0, 0, 0, 0, 0],\n",
    "}\n",
    "level = 'char'\n",
    "dimensions = 100\n",
    "for idxp, paralist in parameters.iteritems():\n",
    "    if idxp == 'dropout':\n",
    "        for idxl, val in enumerate(paralist):\n",
    "            print(\"Current test: %s\" % (str(idxp)))\n",
    "            import StyloNeural as Stylo\n",
    "            (labels_index, predYList, predY, history) = Stylo.getResults(authorList = authorList, \n",
    "                                                                         doc_id = doc_id, \n",
    "                                                                         level = level, \n",
    "                                                                         glove = '../../glove/',\n",
    "                                                                         nb_epoch = 40,\n",
    "                                                                         samples = 300, \n",
    "                                                                         dimensions = 100,\n",
    "                                                                         dropout = val\n",
    "                                                                        )\n",
    "            print(\"%12s test:   index: %2s   pred: %5s\" % (str(idxp), str(idxl), str(predY[loc])))\n",
    "            results[idxp].insert(idxl, predY[loc])\n",
    "        \n",
    "    \n",
    "    if idxp == 'samples':\n",
    "        for idxl, val in enumerate(paralist):\n",
    "            print(\"Current test: %s\" % (str(idxp)))\n",
    "            import StyloNeural as Stylo\n",
    "            (labels_index, predYList, predY, history) = Stylo.getResults(authorList = authorList, \n",
    "                                                                         doc_id = doc_id, \n",
    "                                                                         level = level, \n",
    "                                                                         glove = '../../glove/',\n",
    "                                                                         nb_epoch = 40,\n",
    "                                                                         samples = val, \n",
    "                                                                         dimensions = 100,\n",
    "                                                                         dropout = 0.4\n",
    "                                                                        )\n",
    "            print(\"%12s test:   index: %2s   pred: %5s\" % (str(idxp), str(idxl), str(predY[loc])))\n",
    "            results[idxp].insert(idxl, predY[loc])\n",
    "        \n",
    "    \n",
    "    if idxp == 'dimensions':\n",
    "        for idxl, val in enumerate(paralist):\n",
    "            print(\"Current test: %s\" % (str(idxp)))\n",
    "            import StyloNeural as Stylo\n",
    "            (labels_index, predYList, predY, history) = Stylo.getResults(authorList = authorList, \n",
    "                                                                         doc_id = doc_id, \n",
    "                                                                         level = level, \n",
    "                                                                         glove = '../../glove/',\n",
    "                                                                         nb_epoch = 40,\n",
    "                                                                         samples = 300, \n",
    "                                                                         dimensions = val,\n",
    "                                                                         dropout = 0.4\n",
    "                                                                        )\n",
    "            print(\"%12s test:   index: %2s   pred: %5s\" % (str(idxp), str(idxl), str(predY[loc])))\n",
    "            results[idxp].insert(idxl, predY[loc])\n",
    "        \n",
    "    \n",
    "    if idxp == 'iterations':\n",
    "        for idxl, val in enumerate(paralist):\n",
    "            print(\"Current test: %s\" % (str(idxp)))\n",
    "            import StyloNeural as Stylo\n",
    "            (labels_index, predYList, predY, history) = Stylo.getResults(authorList = authorList, \n",
    "                                                                         doc_id = doc_id, \n",
    "                                                                         level = level, \n",
    "                                                                         glove = '../../glove/',\n",
    "                                                                         nb_epoch = val,\n",
    "                                                                         samples = 300, \n",
    "                                                                         dimensions = 100,\n",
    "                                                                         dropout = 0.4\n",
    "                                                                        )\n",
    "            print(\"%12s test:   index: %2s   pred: %5s\" % (str(idxp), str(idxl), str(predY[loc])))\n",
    "            results[idxp].insert(idxl, predY[loc])\n",
    "    \n",
    "    from IPython.display import clear_output\n",
    "    \n",
    "    clear_output()"
   ]
  },
  {
   "cell_type": "code",
   "execution_count": 3,
   "metadata": {
    "collapsed": false
   },
   "outputs": [
    {
     "name": "stdout",
     "output_type": "stream",
     "text": [
      "{'iterations': [0.087741122, 0.0060175289, 0.0029063446, 0.0076062526, 0.00084979844, 0.0022158797, 0.00054135348, 0.00030015566, 0.062979318, 0.0094336066, 0, 0, 0, 0, 0, 0, 0, 0, 0, 0], 'dropout': [0.068479441, 0.0027613589, 0.017534975, 0.0043732366, 0.016508469, 0.033291448, 0, 0, 0, 0, 0, 0], 'dimensions': [0.019572333, 0.0035010355, 0.019300185, 0, 0, 0, 0], 'samples': [0.21982607, 0.21109262, 0.061043505, 0.017348628, 0.013018345, 0.0068867509, 0, 0, 0, 0, 0, 0]}\n"
     ]
    }
   ],
   "source": [
    "print results"
   ]
  },
  {
   "cell_type": "code",
   "execution_count": 4,
   "metadata": {
    "collapsed": false
   },
   "outputs": [],
   "source": [
    "# import matplotlib.pyplot as plt\n",
    "# # summarize history for accuracy\n",
    "# plt.plot(history.history['acc'])\n",
    "# plt.plot(history.history['val_acc'])\n",
    "# plt.title('model accuracy')\n",
    "# plt.ylabel('accuracy')\n",
    "# plt.xlabel('epoch')\n",
    "# plt.legend(['train', 'test'], loc='upper left')\n",
    "# plt.show()"
   ]
  },
  {
   "cell_type": "code",
   "execution_count": 5,
   "metadata": {
    "collapsed": false
   },
   "outputs": [],
   "source": [
    "# # summarize history for loss\n",
    "# plt.plot(history.history['loss'])\n",
    "# plt.plot(history.history['val_loss'])\n",
    "# plt.title('model loss')\n",
    "# plt.ylabel('loss')\n",
    "# plt.xlabel('epoch')\n",
    "# plt.legend(['train', 'test'], loc='upper left')\n",
    "# plt.show()"
   ]
  },
  {
   "cell_type": "code",
   "execution_count": null,
   "metadata": {
    "collapsed": true
   },
   "outputs": [],
   "source": []
  }
 ],
 "metadata": {
  "anaconda-cloud": {},
  "kernelspec": {
   "display_name": "Python [default]",
   "language": "python",
   "name": "python2"
  },
  "language_info": {
   "codemirror_mode": {
    "name": "ipython",
    "version": 2
   },
   "file_extension": ".py",
   "mimetype": "text/x-python",
   "name": "python",
   "nbconvert_exporter": "python",
   "pygments_lexer": "ipython2",
   "version": "2.7.13"
  }
 },
 "nbformat": 4,
 "nbformat_minor": 1
}
