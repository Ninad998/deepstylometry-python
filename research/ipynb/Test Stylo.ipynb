{
 "cells": [
  {
   "cell_type": "code",
   "execution_count": 1,
   "metadata": {
    "collapsed": false
   },
   "outputs": [],
   "source": [
    "authorList = [551, 2703, 2971, 8303, 7679]\n",
    "doc_id = 1210"
   ]
  },
  {
   "cell_type": "code",
   "execution_count": null,
   "metadata": {
    "collapsed": false
   },
   "outputs": [
    {
     "name": "stderr",
     "output_type": "stream",
     "text": [
      "Using Theano backend.\n"
     ]
    }
   ],
   "source": [
    "parameters = {\n",
    "    'dropout': [0.0, 0.1, 0.2, 0.3, 0.4, 0.5],\n",
    "    'samples': [50, 100, 150, 200, 250, 300],\n",
    "    'dimensions': [50, 100, 200], # 300],\n",
    "    'iterations': [20, 40, 60, 80, 100],\n",
    "}\n",
    "results = {\n",
    "    'dropout': [0.0, 0.0, 0.0, 0.0, 0.0, 0.0],\n",
    "    'samples': [0, 0, 0, 0, 0, 0],\n",
    "    'dimensions': [0, 0, 0, 0],\n",
    "    'iterations': [0, 0, 0, 0, 0],\n",
    "}\n",
    "for idxp, paralist in parameters.iteritems():\n",
    "    if idxp == 'dropout':\n",
    "        for idxl, val in enumerate(paralist):\n",
    "            import StyloNeural as Stylo\n",
    "            (labels_index, predYList, predY, history) = Stylo.getResults(authorList=authorList, \n",
    "                                                                         doc_id=2178, \n",
    "                                                                         level = 'word', \n",
    "                                                                         glove = '../../glove/',\n",
    "                                                                         nb_epoch = 40,\n",
    "                                                                         samples = 300, \n",
    "                                                                         dimensions = 100,\n",
    "                                                                         dropout = val\n",
    "                                                                        )\n",
    "            results[idxp].insert(idxl, predY)\n",
    "        \n",
    "    \n",
    "    if idxp == 'samples':\n",
    "        for idxl, val in enumerate(paralist):\n",
    "            import StyloNeural as Stylo\n",
    "            (labels_index, predYList, predY, history) = Stylo.getResults(authorList=authorList, \n",
    "                                                                         doc_id=2178, \n",
    "                                                                         level = 'word', \n",
    "                                                                         glove = '../../glove/',\n",
    "                                                                         nb_epoch = 40,\n",
    "                                                                         samples = val, \n",
    "                                                                         dimensions = 100,\n",
    "                                                                         dropout = 0.4\n",
    "                                                                        )\n",
    "            results[idxp].insert(idxl, predY)\n",
    "        \n",
    "    \n",
    "    if idxp == 'dimensions':\n",
    "        for idxl, val in enumerate(paralist):\n",
    "            import StyloNeural as Stylo\n",
    "            (labels_index, predYList, predY, history) = Stylo.getResults(authorList=authorList, \n",
    "                                                                         doc_id=2178, \n",
    "                                                                         level = 'word', \n",
    "                                                                         glove = '../../glove/',\n",
    "                                                                         nb_epoch = 40,\n",
    "                                                                         samples = 300, \n",
    "                                                                         dimensions = val,\n",
    "                                                                         dropout = 0.4\n",
    "                                                                        )\n",
    "            results[idxp].insert(idxl, predY)\n",
    "        \n",
    "    \n",
    "    if idxp == 'iterations':\n",
    "        for idxl, val in enumerate(paralist):\n",
    "            import StyloNeural as Stylo\n",
    "            (labels_index, predYList, predY, history) = Stylo.getResults(authorList=authorList, \n",
    "                                                                         doc_id=2178, \n",
    "                                                                         level = 'word', \n",
    "                                                                         glove = '../../glove/',\n",
    "                                                                         nb_epoch = val,\n",
    "                                                                         samples = 300, \n",
    "                                                                         dimensions = 100,\n",
    "                                                                         dropout = 0.4\n",
    "                                                                        )\n",
    "            results[idxp].insert(idxl, predY)"
   ]
  },
  {
   "cell_type": "code",
   "execution_count": null,
   "metadata": {
    "collapsed": false
   },
   "outputs": [],
   "source": [
    "print results"
   ]
  },
  {
   "cell_type": "code",
   "execution_count": null,
   "metadata": {
    "collapsed": false
   },
   "outputs": [],
   "source": [
    "# import matplotlib.pyplot as plt\n",
    "# # summarize history for accuracy\n",
    "# plt.plot(history.history['acc'])\n",
    "# plt.plot(history.history['val_acc'])\n",
    "# plt.title('model accuracy')\n",
    "# plt.ylabel('accuracy')\n",
    "# plt.xlabel('epoch')\n",
    "# plt.legend(['train', 'test'], loc='upper left')\n",
    "# plt.show()"
   ]
  },
  {
   "cell_type": "code",
   "execution_count": null,
   "metadata": {
    "collapsed": false
   },
   "outputs": [],
   "source": [
    "# # summarize history for loss\n",
    "# plt.plot(history.history['loss'])\n",
    "# plt.plot(history.history['val_loss'])\n",
    "# plt.title('model loss')\n",
    "# plt.ylabel('loss')\n",
    "# plt.xlabel('epoch')\n",
    "# plt.legend(['train', 'test'], loc='upper left')\n",
    "# plt.show()"
   ]
  },
  {
   "cell_type": "code",
   "execution_count": null,
   "metadata": {
    "collapsed": true
   },
   "outputs": [],
   "source": []
  }
 ],
 "metadata": {
  "anaconda-cloud": {},
  "kernelspec": {
   "display_name": "Python [default]",
   "language": "python",
   "name": "python2"
  },
  "language_info": {
   "codemirror_mode": {
    "name": "ipython",
    "version": 2
   },
   "file_extension": ".py",
   "mimetype": "text/x-python",
   "name": "python",
   "nbconvert_exporter": "python",
   "pygments_lexer": "ipython2",
   "version": "2.7.13"
  }
 },
 "nbformat": 4,
 "nbformat_minor": 1
}
