{
 "cells": [
  {
   "cell_type": "code",
   "execution_count": 1,
   "metadata": {
    "collapsed": false
   },
   "outputs": [
    {
     "name": "stdout",
     "output_type": "stream",
     "text": [
      "(85L, 3L, 200L, 50L, 30L, Decimal('0.4'), Decimal('0.3332930000'), 'samples')\n",
      "(85L, 3L, 200L, 50L, 30L, Decimal('0.4'), Decimal('0E-10'), 'samplesbinary')\n",
      "(85L, 3L, 200L, 100L, 30L, Decimal('0.4'), Decimal('0.3473390000'), 'samples')\n",
      "(85L, 3L, 200L, 100L, 30L, Decimal('0.4'), Decimal('1.0000000000'), 'samplesbinary')\n",
      "(85L, 3L, 200L, 200L, 30L, Decimal('0.4'), Decimal('0.3353740000'), 'samples')\n",
      "(85L, 3L, 200L, 200L, 30L, Decimal('0.4'), Decimal('1.0000000000'), 'samplesbinary')\n",
      "(85L, 3L, 200L, 300L, 30L, Decimal('0.4'), Decimal('0.4534990000'), 'initial')\n",
      "(85L, 3L, 200L, 400L, 30L, Decimal('0.4'), Decimal('0.3295540000'), 'samples')\n",
      "(85L, 3L, 200L, 400L, 30L, Decimal('0.4'), Decimal('0E-10'), 'samplesbinary')\n",
      "(85L, 3L, 200L, 800L, 30L, Decimal('0.4'), Decimal('0.3362260000'), 'samples')\n",
      "(85L, 3L, 200L, 800L, 30L, Decimal('0.4'), Decimal('1.0000000000'), 'samplesbinary')\n",
      "(85L, 3L, 200L, 1600L, 30L, Decimal('0.4'), Decimal('0.3331660000'), 'samples')\n",
      "(85L, 3L, 200L, 1600L, 30L, Decimal('0.4'), Decimal('0E-10'), 'samplesbinary')\n",
      "(85L, 3L, 200L, 1726L, 30L, Decimal('0.4'), Decimal('0.9999990000'), 'batch10')\n",
      "(85L, 3L, 200L, 1726L, 30L, Decimal('0.4'), Decimal('1.0000000000'), 'batch10binary')\n",
      "(85L, 3L, 200L, 1726L, 30L, Decimal('0.4'), Decimal('0.3345050000'), 'samples')\n",
      "(85L, 3L, 200L, 1726L, 30L, Decimal('0.4'), Decimal('1.0000000000'), 'samplesbinary')\n",
      "(85L, 3L, 200L, 1726L, 30L, Decimal('0.4'), Decimal('0.3305620000'), 'tensorbatch10')\n"
     ]
    }
   ],
   "source": [
    "from sshtunnel import SSHTunnelForwarder\n",
    "with SSHTunnelForwarder((\"144.214.121.15\", 22),\n",
    "                        ssh_username='ninadt',\n",
    "                        ssh_password='Ninad123',\n",
    "                        remote_bind_address=('localhost', 3306),\n",
    "                        local_bind_address=('localhost', 3300)):\n",
    "    import MySQLdb\n",
    "    conn = MySQLdb.connect(host=\"127.0.0.1\", port = 3300, user=\"ninadt\", passwd=\"ninadt\", db=\"tests\")\n",
    "\n",
    "    cursor = conn.cursor()\n",
    "\n",
    "    query = \"SELECT * FROM readingsOldCNN WHERE doc_id = \" + str(85) + \" AND candidates = \" + str(3)\n",
    "    query += \" AND dimensions = \" + str(200)\n",
    "    query += \" AND iterations = \" + str(30) + \" AND dropout = \" + str(0.4)\n",
    "    query += \" ;\"\n",
    "\n",
    "    cursor.execute(query)\n",
    "    \n",
    "    rows = cursor.fetchall()\n",
    "    \n",
    "    for row in rows:\n",
    "        print(row)"
   ]
  },
  {
   "cell_type": "code",
   "execution_count": null,
   "metadata": {
    "collapsed": true
   },
   "outputs": [],
   "source": []
  }
 ],
 "metadata": {
  "kernelspec": {
   "display_name": "Python 2",
   "language": "python",
   "name": "python2"
  },
  "language_info": {
   "codemirror_mode": {
    "name": "ipython",
    "version": 2
   },
   "file_extension": ".py",
   "mimetype": "text/x-python",
   "name": "python",
   "nbconvert_exporter": "python",
   "pygments_lexer": "ipython2",
   "version": "2.7.13"
  }
 },
 "nbformat": 4,
 "nbformat_minor": 2
}
