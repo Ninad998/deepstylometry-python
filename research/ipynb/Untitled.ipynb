{
 "cells": [
  {
   "cell_type": "code",
   "execution_count": 1,
   "metadata": {
    "collapsed": false,
    "deletable": true,
    "editable": true
   },
   "outputs": [],
   "source": [
    "from __future__ import print_function\n",
    "import nltk.tokenize\n",
    "import psycopg2\n",
    "import pandas as pd\n",
    "import sys\n",
    "databaseConnectionServer = 'srn02.cs.cityu.edu.hk'\n",
    "from sshtunnel import SSHTunnelForwarder\n",
    "chunk_size = 1000\n",
    "authors = [6951, 7961, 1011, 7939, 308, 10851, 1860, 6927, 6363, 2089,\n",
    "           6773, 1848, 9152, 10302, 5279, 8835, 6464, 5271, 1661, 4188 ]"
   ]
  },
  {
   "cell_type": "code",
   "execution_count": 2,
   "metadata": {
    "collapsed": false,
    "deletable": true,
    "editable": true
   },
   "outputs": [
    {
     "name": "stdout",
     "output_type": "stream",
     "text": [
      "Execution completed\n",
      "Read completed\n",
      "Number of rows: 14\n",
      "Execution completed\n",
      "Read completed\n",
      "Number of rows: 14\n",
      "Execution completed\n",
      "Read completed\n",
      "Number of rows: 218\n"
     ]
    }
   ],
   "source": [
    "with SSHTunnelForwarder((databaseConnectionServer, 22), ssh_username='stylometry', ssh_password='stylometry', \n",
    "                        remote_bind_address=('localhost', 5432), local_bind_address=('localhost', 5400)):\n",
    "    PORT=5400\n",
    "    df = pd.DataFrame()\n",
    "    conn = None\n",
    "    output = []\n",
    "    i = 1\n",
    "    # nltk.download('punkt')\n",
    "    try:\n",
    "        conn = psycopg2.connect(user=\"stylometry\", password=\"stylometry\",\n",
    "                                database=\"stylometry_v2\", host=\"localhost\", port=PORT)\n",
    "        cur = conn.cursor()\n",
    "        \n",
    "        documentTable = 'author'\n",
    "        \n",
    "        query = \"SELECT author_id FROM \" + str(documentTable)\n",
    "        query += \" WHERE gender like '%F%' ;\"\n",
    "        cur.execute(query)\n",
    "        print(\"Execution completed\")\n",
    "        rows = cur.fetchall()\n",
    "        print(\"Read completed\")\n",
    "        lenOfFemale = len(rows)\n",
    "        print(\"Number of rows: %s\" % (lenOfFemale))\n",
    "        authors = []\n",
    "        for row in rows:\n",
    "            row = [row[0], \"F\"]\n",
    "            authors.append(row)\n",
    "            \n",
    "        query = \"SELECT author_id FROM \" + str(documentTable)\n",
    "        query += \" WHERE gender like '%M%' LIMIT \" + str(lenOfFemale) + \" ;\"\n",
    "        cur.execute(query)\n",
    "        print(\"Execution completed\")\n",
    "        rows = cur.fetchall()\n",
    "        print(\"Read completed\")\n",
    "        lenOfMale = len(rows)\n",
    "        print(\"Number of rows: %s\" % (lenOfFemale))\n",
    "        \n",
    "        for row in rows:\n",
    "            row = [row[0], \"M\"]\n",
    "            authors.append(row)\n",
    "            \n",
    "        documentTable = 'document'\n",
    "        \n",
    "        query = \"SELECT author_id, doc_content FROM \" + str(documentTable) + \" WHERE author_id IN (\"\n",
    "        flag = False\n",
    "        for auth in authors:\n",
    "            if not flag:\n",
    "                query = query + str(auth[0])\n",
    "                flag = True\n",
    "            else:\n",
    "                query = query + \", \" + str(auth[0])\n",
    "        query = query + \") ;\"\n",
    "        cur.execute(query)\n",
    "        print(\"Execution completed\")\n",
    "        rows = cur.fetchall()\n",
    "        print(\"Read completed\")\n",
    "        print(\"Number of rows: %s\" % (len(rows)))\n",
    "        authors = dict(authors)\n",
    "\n",
    "    except psycopg2.Error as e:\n",
    "        if conn:\n",
    "            conn.rollback()\n",
    "        print('Error %s' % e)\n",
    "        sys.exit(1)\n",
    "\n",
    "    finally:\n",
    "        if conn is not None:\n",
    "            conn.close()\n"
   ]
  },
  {
   "cell_type": "code",
   "execution_count": 3,
   "metadata": {
    "collapsed": false,
    "deletable": true,
    "editable": true
   },
   "outputs": [
    {
     "name": "stderr",
     "output_type": "stream",
     "text": [
      "No traceback available to show.\n"
     ]
    }
   ],
   "source": [
    "%tb"
   ]
  },
  {
   "cell_type": "code",
   "execution_count": 4,
   "metadata": {
    "collapsed": false,
    "deletable": true,
    "editable": true,
    "scrolled": true
   },
   "outputs": [],
   "source": [
    "count = 0\n",
    "for row in rows:\n",
    "    tokens = nltk.word_tokenize(row[1].decode(\"utf8\"))\n",
    "    chunk1 = []\n",
    "    for x in tokens:\n",
    "        if (i < chunk_size):\n",
    "            chunk1.append(x.encode(\"utf8\"))\n",
    "            i += 1\n",
    "        else:\n",
    "            chunk1.append(x.encode(\"utf8\"))\n",
    "            xx = ' '.join(chunk1)\n",
    "            xx = str(xx)\n",
    "            chunk1 = []\n",
    "            gender = authors[row[0]]\n",
    "            output.append([row[0], xx, gender])\n",
    "            i = 1\n",
    "    if len(chunk1) > 0:\n",
    "        xx = ' '.join(chunk1)\n",
    "        xx = str(xx)\n",
    "        chunk1 = []\n",
    "        output.append([row[0], xx])\n",
    "        i = 1\n",
    "    count += 1\n",
    "    if (count % 1000) == 0:\n",
    "        print(\"%s completed\" % (str(count)))\n",
    "    \n",
    "\n",
    "df = pd.DataFrame(output, columns=[\"author_id\", \"doc_content\", \"gender\"])\n",
    "del output"
   ]
  },
  {
   "cell_type": "code",
   "execution_count": 5,
   "metadata": {
    "collapsed": false,
    "deletable": true,
    "editable": true
   },
   "outputs": [
    {
     "name": "stdout",
     "output_type": "stream",
     "text": [
      "(24987, 3)\n"
     ]
    }
   ],
   "source": [
    "print(df.shape)"
   ]
  },
  {
   "cell_type": "code",
   "execution_count": null,
   "metadata": {
    "collapsed": true,
    "deletable": true,
    "editable": true
   },
   "outputs": [],
   "source": []
  }
 ],
 "metadata": {
  "kernelspec": {
   "display_name": "Python 2",
   "language": "python",
   "name": "python2"
  },
  "language_info": {
   "codemirror_mode": {
    "name": "ipython",
    "version": 2
   },
   "file_extension": ".py",
   "mimetype": "text/x-python",
   "name": "python",
   "nbconvert_exporter": "python",
   "pygments_lexer": "ipython2",
   "version": "2.7.13"
  }
 },
 "nbformat": 4,
 "nbformat_minor": 2
}
