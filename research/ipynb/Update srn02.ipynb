{
 "cells": [
  {
   "cell_type": "code",
   "execution_count": 1,
   "metadata": {
    "collapsed": true
   },
   "outputs": [],
   "source": [
    "import DatabaseQueryUpdate as db"
   ]
  },
  {
   "cell_type": "code",
   "execution_count": 2,
   "metadata": {
    "collapsed": false
   },
   "outputs": [
    {
     "name": "stdout",
     "output_type": "stream",
     "text": [
      "Execution completed\n",
      "Read completed\n",
      "Number of rows: 27679\n",
      "<type 'list'>\n",
      "doc_id          int64\n",
      "doc_title      object\n",
      "year_of_pub    object\n",
      "dtype: object\n",
      "Data Frame created: Shape: (27679, 3)\n"
     ]
    }
   ],
   "source": [
    "from sshtunnel import SSHTunnelForwarder\n",
    "PORT=5432\n",
    "with SSHTunnelForwarder(('srn01.cs.cityu.edu.hk', 22),\n",
    "                        ssh_username='stylometry',\n",
    "                        ssh_password='stylometry',\n",
    "                        remote_bind_address=('localhost', 5432),\n",
    "                        local_bind_address=('localhost', 5400)):\n",
    "    bigDocument = db.getDocBigData(5400)"
   ]
  },
  {
   "cell_type": "code",
   "execution_count": 3,
   "metadata": {
    "collapsed": false
   },
   "outputs": [
    {
     "name": "stdout",
     "output_type": "stream",
     "text": [
      "Execution completed\n",
      "Read completed\n",
      "Number of rows: 2386\n",
      "<type 'list'>\n",
      "doc_id          int64\n",
      "doc_title      object\n",
      "year_of_pub    object\n",
      "dtype: object\n",
      "Data Frame created: Shape: (2386, 3)\n"
     ]
    }
   ],
   "source": [
    "from sshtunnel import SSHTunnelForwarder\n",
    "PORT=5432\n",
    "with SSHTunnelForwarder(('srn02.cs.cityu.edu.hk', 22),\n",
    "                        ssh_username='stylometry',\n",
    "                        ssh_password='stylometry',\n",
    "                        remote_bind_address=('localhost', 5432),\n",
    "                        local_bind_address=('localhost', 5400)):\n",
    "    smallDocument = db.getDocSmallData(5400)"
   ]
  },
  {
   "cell_type": "code",
   "execution_count": 4,
   "metadata": {
    "collapsed": false
   },
   "outputs": [
    {
     "name": "stdout",
     "output_type": "stream",
     "text": [
      "Data Frame created: Shape: (27679, 3)\n",
      "Data Frame created: Shape: (2386, 3)\n"
     ]
    }
   ],
   "source": [
    "print(\"Data Frame created: Shape: %s\" % (str(bigDocument.shape)))\n",
    "print(\"Data Frame created: Shape: %s\" % (str(smallDocument.shape)))"
   ]
  },
  {
   "cell_type": "code",
   "execution_count": 5,
   "metadata": {
    "collapsed": false
   },
   "outputs": [],
   "source": [
    "df = bigDocument.loc[ bigDocument['doc_title'] == smallDocument.loc[10]['doc_title'] ]"
   ]
  },
  {
   "cell_type": "code",
   "execution_count": 6,
   "metadata": {
    "collapsed": false
   },
   "outputs": [],
   "source": [
    "# for index, row in smallDocument.iterrows():\n",
    "#     df = bigDocument.loc[ bigDocument['doc_title'] == row['doc_title'] ]\n",
    "#     doc_id = df['doc_id']\n",
    "#     doc_title = df['doc_id']\n",
    "#     year_of_pub = df['doc_id']\n",
    "#     print('doc_id = %s ' % (doc_id))\n",
    "#     print('doc_title = %s ' % (doc_title))\n",
    "#     print('year_of_pub = %s ' % (year_of_pub))\n",
    "# #     from sshtunnel import SSHTunnelForwarder\n",
    "# #     PORT=5432\n",
    "# #     with SSHTunnelForwarder(('srn02.cs.cityu.edu.hk', 22),\n",
    "# #                             ssh_username='stylometry',\n",
    "# #                             ssh_password='stylometry',\n",
    "# #                             remote_bind_address=('localhost', 5432),\n",
    "# #                             local_bind_address=('localhost', 5400)):\n",
    "# #         smallDocument = db.updateDocSmallData(5400, doc_id, doc_title, year_of_pub)"
   ]
  },
  {
   "cell_type": "code",
   "execution_count": 9,
   "metadata": {
    "collapsed": true
   },
   "outputs": [],
   "source": [
    "import pandas as pd\n",
    "result = smallDocument.merge(bigDocument, on='doc_title', how='inner')"
   ]
  },
  {
   "cell_type": "code",
   "execution_count": 10,
   "metadata": {
    "collapsed": false
   },
   "outputs": [
    {
     "name": "stdout",
     "output_type": "stream",
     "text": [
      "      doc_id_x                                          doc_title  \\\n",
      "0            2                           Town and Country Sermons   \n",
      "1           10                            The Celebrity, Complete   \n",
      "2           11                                    Is He Popenjoy?   \n",
      "3           12                                     Piccadilly Jim   \n",
      "4           13                                        Gaspar Ruiz   \n",
      "5           14                      Aunt Jane's Nieces in Society   \n",
      "6           15                                        Aaron's Rod   \n",
      "7           17                                      Rudder Grange   \n",
      "8           18               Mysticism and Logic and Other Essays   \n",
      "9           20                                        Jack Archer   \n",
      "10          22                                       The Talisman   \n",
      "11          23                              The Heir of Redclyffe   \n",
      "12          27                                Aunt Jo's Scrap-Bag   \n",
      "13          28                                   The Four Million   \n",
      "14          29                       The Rustlers of Pecos County   \n",
      "15          30                                      Rollo in Rome   \n",
      "16          32                              Mark Twain's Speeches   \n",
      "17          33                           John Bull's Other Island   \n",
      "18          34                                           Marriage   \n",
      "19          35            A Portrait of the Artist as a Young Man   \n",
      "20          37                                The New Machiavelli   \n",
      "21          39                                               Nero   \n",
      "22          41                                         Stage-Land   \n",
      "23          46                                       Barry Lyndon   \n",
      "24          48                                      Venetian Life   \n",
      "25          49                                   Past and Present   \n",
      "26          52                              A Girl of the Commune   \n",
      "27          54                                Questionable Shapes   \n",
      "28          55                           Mrs. Warren's Profession   \n",
      "29          57          Memoirs of Major Alexander Ramkins (1718)   \n",
      "...        ...                                                ...   \n",
      "1452      2324                                          The Snare   \n",
      "1453      2326                                      The Patagonia   \n",
      "1454      2328                              Life's Little Ironies   \n",
      "1455      2329                         Thurston of Orchard Valley   \n",
      "1456      2330                          Notes on Life and Letters   \n",
      "1457      2331                              First and Last Things   \n",
      "1458      2332  The Works of the Right Honourable Edmund Burke...   \n",
      "1459      2337                           An International Episode   \n",
      "1460      2338                                 War of the Classes   \n",
      "1461      2343                                 A Jolly Fellowship   \n",
      "1462      2345                                               Jess   \n",
      "1463      2348                                        Tono Bungay   \n",
      "1464      2349                                        The Dynasts   \n",
      "1465      2351                                        Ting-a-ling   \n",
      "1466      2354                                        Richard III   \n",
      "1467      2355                                          Lost Face   \n",
      "1468      2358                                      Rose in Bloom   \n",
      "1469      2362                                 Round the Red Lamp   \n",
      "1470      2365                                            Ballads   \n",
      "1471      2365                                            Ballads   \n",
      "1472      2366  The Letters of Elizabeth Barrett Browning (1 o...   \n",
      "1473      2368                                Captains Courageous   \n",
      "1474      2370                 The Burgess Bird Book for Children   \n",
      "1475      2373                                       Miscellanies   \n",
      "1476      2374                           The History of Pendennis   \n",
      "1477      2375                                       Devil's Ford   \n",
      "1478      2377                             The Devil's Dictionary   \n",
      "1479      2380                                     The Virginians   \n",
      "1480      2381                                      Chantry House   \n",
      "1481      2386                                     Rolling Stones   \n",
      "\n",
      "     year_of_pub_x  doc_id_y year_of_pub_y  \n",
      "0       1886-02-25     21165    2004-03-01  \n",
      "1       1886-02-25      7251    2004-10-19  \n",
      "2       1886-02-25     16633    2009-08-28  \n",
      "3       1886-02-25      6399    1999-12-01  \n",
      "4       1886-02-25      3654    2005-08-01  \n",
      "5       1886-02-25     12256    2003-12-01  \n",
      "6       1886-02-25     20150    2003-10-01  \n",
      "7       1886-02-25      1635    1999-12-01  \n",
      "8       1886-02-25      9310    2008-05-12  \n",
      "9       1886-02-25     10009    2004-02-01  \n",
      "10      1886-02-25      2419    2004-05-01  \n",
      "11      1886-02-25     28682    2001-02-01  \n",
      "12      1886-02-25     22436    2008-07-12  \n",
      "13      1886-02-25     10614    2001-08-01  \n",
      "14      1886-02-25      9192    2005-04-08  \n",
      "15      1886-02-25     27846    2007-11-10  \n",
      "16      1886-02-25     13426    2004-09-17  \n",
      "17      1886-02-25      9046    2003-01-01  \n",
      "18      1886-02-25     22579    2004-06-01  \n",
      "19      1886-02-25     15245    2003-07-01  \n",
      "20      1886-02-25     17159    1997-09-01  \n",
      "21      1886-02-25     14505    2008-03-08  \n",
      "22      1886-02-25     19762    1997-03-01  \n",
      "23      1886-02-25     24602    2003-10-01  \n",
      "24      1886-02-25      3186    2004-12-01  \n",
      "25      1886-02-25     19622    2004-09-27  \n",
      "26      1886-02-25     10598    2008-01-11  \n",
      "27      1886-02-25      3228    2005-12-01  \n",
      "28      1886-02-25      9041    2002-02-11  \n",
      "29      1886-02-25     17996    2004-12-24  \n",
      "...            ...       ...           ...  \n",
      "1452    1886-02-25     27726    2001-06-01  \n",
      "1453    1886-02-25     22928    2000-12-01  \n",
      "1454    1886-02-25     18890    2002-01-01  \n",
      "1455    1886-02-25      5551    2009-06-28  \n",
      "1456    1886-02-25      3649    1997-12-01  \n",
      "1457    1886-02-25     17181    2003-07-01  \n",
      "1458    1886-02-25       473    2006-05-05  \n",
      "1459    1886-02-25     24006    2008-07-09  \n",
      "1460    1886-02-25      7506    1998-02-01  \n",
      "1461    1886-02-25      1795    2007-02-24  \n",
      "1462    1886-02-25     26332    2006-04-22  \n",
      "1463    1886-02-25     17148    2006-03-18  \n",
      "1464    1886-02-25     18885    2003-05-01  \n",
      "1465    1886-02-25      1619    2007-03-16  \n",
      "1466    1886-02-25     19260    2004-11-01  \n",
      "1467    1886-02-25      8003    2000-12-01  \n",
      "1468    1886-02-25     22417    2001-09-01  \n",
      "1469    1886-02-25      8383    1996-02-01  \n",
      "1470    1886-02-25      2180    1996-01-01  \n",
      "1471    1886-02-25     24603    2001-07-01  \n",
      "1472    1886-02-25     24418    2004-07-25  \n",
      "1473    1886-02-25     19147    2000-05-01  \n",
      "1474    1886-02-25       490    2002-02-01  \n",
      "1475    1886-02-25     11193    2004-11-16  \n",
      "1476    1886-02-25     24584    2005-01-01  \n",
      "1477    1886-02-25     16223    2006-05-14  \n",
      "1478    1886-02-25      4714    1997-07-01  \n",
      "1479    1886-02-25     24575    2005-05-01  \n",
      "1480    1886-02-25     28883    2005-01-01  \n",
      "1481    1886-02-25     10617    2003-03-01  \n",
      "\n",
      "[1482 rows x 5 columns]\n"
     ]
    }
   ],
   "source": [
    "print(result)"
   ]
  },
  {
   "cell_type": "code",
   "execution_count": null,
   "metadata": {
    "collapsed": true
   },
   "outputs": [],
   "source": []
  }
 ],
 "metadata": {
  "kernelspec": {
   "display_name": "Python [default]",
   "language": "python",
   "name": "python2"
  },
  "language_info": {
   "codemirror_mode": {
    "name": "ipython",
    "version": 2
   },
   "file_extension": ".py",
   "mimetype": "text/x-python",
   "name": "python",
   "nbconvert_exporter": "python",
   "pygments_lexer": "ipython2",
   "version": "2.7.13"
  }
 },
 "nbformat": 4,
 "nbformat_minor": 2
}
